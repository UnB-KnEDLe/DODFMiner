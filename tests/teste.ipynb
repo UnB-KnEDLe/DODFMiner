{
 "cells": [
  {
   "cell_type": "code",
   "execution_count": 1,
   "metadata": {},
   "outputs": [],
   "source": [
    "from dodfminer import ActsExtractor"
   ]
  },
  {
   "cell_type": "code",
   "execution_count": 2,
   "metadata": {},
   "outputs": [],
   "source": [
    "df = ActsExtractor.get_act_df('licitacao', 'support/valid_2.txt', 'regex')"
   ]
  },
  {
   "cell_type": "code",
   "execution_count": 3,
   "metadata": {},
   "outputs": [
    {
     "data": {
      "text/html": [
       "<div>\n",
       "<style scoped>\n",
       "    .dataframe tbody tr th:only-of-type {\n",
       "        vertical-align: middle;\n",
       "    }\n",
       "\n",
       "    .dataframe tbody tr th {\n",
       "        vertical-align: top;\n",
       "    }\n",
       "\n",
       "    .dataframe thead th {\n",
       "        text-align: right;\n",
       "    }\n",
       "</style>\n",
       "<table border=\"1\" class=\"dataframe\">\n",
       "  <thead>\n",
       "    <tr style=\"text-align: right;\">\n",
       "      <th></th>\n",
       "      <th>Tipo do Ato</th>\n",
       "      <th>numero_licitacao</th>\n",
       "      <th>nome_responsavel</th>\n",
       "      <th>data_escrito</th>\n",
       "      <th>objeto</th>\n",
       "      <th>modalidade_licitacao</th>\n",
       "      <th>processo_GDF</th>\n",
       "      <th>valor</th>\n",
       "      <th>data_abertura</th>\n",
       "      <th>uasg</th>\n",
       "      <th>sistema_compra</th>\n",
       "      <th>tipo_objeto</th>\n",
       "      <th>texto</th>\n",
       "      <th>DODF_Fonte_Arquivo</th>\n",
       "      <th>DODF_Fonte_Data</th>\n",
       "      <th>DODF_Fonte_Numero</th>\n",
       "    </tr>\n",
       "  </thead>\n",
       "  <tbody>\n",
       "    <tr>\n",
       "      <th>0</th>\n",
       "      <td>Aviso de Licitação</td>\n",
       "      <td>NaN</td>\n",
       "      <td>NaN</td>\n",
       "      <td>NaN</td>\n",
       "      <td>NaN</td>\n",
       "      <td>NaN</td>\n",
       "      <td>NaN</td>\n",
       "      <td>NaN</td>\n",
       "      <td>NaN</td>\n",
       "      <td>NaN</td>\n",
       "      <td>NaN</td>\n",
       "      <td>NaN</td>\n",
       "      <td>AVISO DE LICITAÇÃO PÚBLICA NACIONAL LPN 001/20...</td>\n",
       "      <td>valid_2.pdf</td>\n",
       "      <td>None</td>\n",
       "      <td>None</td>\n",
       "    </tr>\n",
       "    <tr>\n",
       "      <th>1</th>\n",
       "      <td>Aviso de Licitação</td>\n",
       "      <td>NaN</td>\n",
       "      <td>NaN</td>\n",
       "      <td>NaN</td>\n",
       "      <td>NaN</td>\n",
       "      <td>NaN</td>\n",
       "      <td>NaN</td>\n",
       "      <td>NaN</td>\n",
       "      <td>NaN</td>\n",
       "      <td>NaN</td>\n",
       "      <td>NaN</td>\n",
       "      <td>NaN</td>\n",
       "      <td>AVISO DE LICITAÇÃO PREGÃO ELETRÔNICO PE Nº 001...</td>\n",
       "      <td>valid_2.pdf</td>\n",
       "      <td>None</td>\n",
       "      <td>None</td>\n",
       "    </tr>\n",
       "  </tbody>\n",
       "</table>\n",
       "</div>"
      ],
      "text/plain": [
       "          Tipo do Ato  numero_licitacao  nome_responsavel  data_escrito  \\\n",
       "0  Aviso de Licitação               NaN               NaN           NaN   \n",
       "1  Aviso de Licitação               NaN               NaN           NaN   \n",
       "\n",
       "   objeto  modalidade_licitacao  processo_GDF  valor  data_abertura  uasg  \\\n",
       "0     NaN                   NaN           NaN    NaN            NaN   NaN   \n",
       "1     NaN                   NaN           NaN    NaN            NaN   NaN   \n",
       "\n",
       "   sistema_compra  tipo_objeto  \\\n",
       "0             NaN          NaN   \n",
       "1             NaN          NaN   \n",
       "\n",
       "                                               texto DODF_Fonte_Arquivo  \\\n",
       "0  AVISO DE LICITAÇÃO PÚBLICA NACIONAL LPN 001/20...        valid_2.pdf   \n",
       "1  AVISO DE LICITAÇÃO PREGÃO ELETRÔNICO PE Nº 001...        valid_2.pdf   \n",
       "\n",
       "  DODF_Fonte_Data DODF_Fonte_Numero  \n",
       "0            None              None  \n",
       "1            None              None  "
      ]
     },
     "execution_count": 3,
     "metadata": {},
     "output_type": "execute_result"
    }
   ],
   "source": [
    "df"
   ]
  },
  {
   "cell_type": "code",
   "execution_count": 4,
   "metadata": {},
   "outputs": [
    {
     "data": {
      "text/plain": [
       "'AVISO DE LICITAÇÃO PREGÃO ELETRÔNICO PE Nº 001/2019 PROCESSO Nº 092.006006/2018. OBJETO: Aquisição e instalação de conjuntos motor bomba para a elevatória de água bruta do sistema Santa Maria/Torto. DOTAÇÃO ORÇAMENTARIA: UO: 22.202; PROGRAMA DE TRABALHO: 17.512.6210.7006/6033; NATUREZA DE DESPESA: 22.206.012.041-0); Código de Aplicação: 449051. FONTE DE RECURSO: Contrato de Empréstimo: nº 3168/0C-BR, código 21.205.100.010-5. VIGÊNCIA: 13 ABERTURA: 04/02/2019, às 09 horas site meses. no www.comprasnet.gov.br (UASG: 974200). INFORMAÇÕES: O edital e seus anexos encontram-se disponíveis no site: www.caesb.df.gov.br menu menu Licitações, a partir do dia 08/01/2019. Fone: (61) 32137575, 7575, E-mail: licitacao(Ocaesb.df.gov.br. ELISA TEREZINHA HAMMES Pregoeira '"
      ]
     },
     "execution_count": 4,
     "metadata": {},
     "output_type": "execute_result"
    }
   ],
   "source": [
    "df['texto'][1]"
   ]
  }
 ],
 "metadata": {
  "interpreter": {
   "hash": "3f1f372a1638325c64d7251fae58c7da06c61bab10190cc10b4870a09d8fd832"
  },
  "kernelspec": {
   "display_name": "Python 3.9.13 ('env': venv)",
   "language": "python",
   "name": "python3"
  },
  "language_info": {
   "codemirror_mode": {
    "name": "ipython",
    "version": 3
   },
   "file_extension": ".py",
   "mimetype": "text/x-python",
   "name": "python",
   "nbconvert_exporter": "python",
   "pygments_lexer": "ipython3",
   "version": "3.9.13"
  },
  "orig_nbformat": 4
 },
 "nbformat": 4,
 "nbformat_minor": 2
}
