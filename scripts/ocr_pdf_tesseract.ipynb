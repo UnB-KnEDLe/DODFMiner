{
  "nbformat": 4,
  "nbformat_minor": 0,
  "metadata": {
    "colab": {
      "name": "ocr_pdf_tesseract.ipynb",
      "provenance": [],
      "collapsed_sections": [],
      "toc_visible": true
    },
    "kernelspec": {
      "name": "python3",
      "display_name": "Python 3"
    },
    "accelerator": "GPU"
  },
  "cells": [
    {
      "cell_type": "code",
      "metadata": {
        "id": "elfeCbJy8s0I",
        "colab_type": "code",
        "colab": {}
      },
      "source": [
        "######## Simples teste para analise de tempo das ########\n",
        "######## ferramentas de conversao de pdf para    ########\n",
        "######## imagem e ocr usando tesseract.          ########\n",
        "\n",
        "# Renomeie o arquivo que subir para para \"teste_file\""
      ],
      "execution_count": 0,
      "outputs": []
    },
    {
      "cell_type": "code",
      "metadata": {
        "id": "khXMeG0AqKRb",
        "colab_type": "code",
        "colab": {}
      },
      "source": [
        "# Instala as bibliotecas necessarias na maquina virtual\n",
        "!apt-get install tesseract-ocr imagemagick poppler-utils libtesseract-dev"
      ],
      "execution_count": 0,
      "outputs": []
    },
    {
      "cell_type": "code",
      "metadata": {
        "id": "HyrbmJo43VJ9",
        "colab_type": "code",
        "colab": {}
      },
      "source": [
        "# Instalaa o pytesseract\n",
        "!pip install pytesseract"
      ],
      "execution_count": 0,
      "outputs": []
    },
    {
      "cell_type": "code",
      "metadata": {
        "id": "dFwzPWKKKi2e",
        "colab_type": "code",
        "colab": {}
      },
      "source": [
        "from PIL import Image\n",
        "import pytesseract\n",
        "import argparse\n",
        "import cv2\n",
        "import os\n",
        "import time\n",
        "import numpy as np"
      ],
      "execution_count": 0,
      "outputs": []
    },
    {
      "cell_type": "code",
      "metadata": {
        "id": "CFIiY-LfPWfj",
        "colab_type": "code",
        "colab": {}
      },
      "source": [
        "# Rodar uma só vez para ter permissão de usar o convert na maquina virtual\n",
        "!sudo mv /etc/ImageMagick-6/policy.xml /etc/ImageMagick-6/policy.xmlout"
      ],
      "execution_count": 0,
      "outputs": []
    },
    {
      "cell_type": "code",
      "metadata": {
        "id": "tVWxZMdgJOa2",
        "colab_type": "code",
        "colab": {}
      },
      "source": [
        "# Transforma pdf em imagem usando o \"convert\"\n",
        "inicio = time.time()\n",
        "!convert -density 300 teste_file.pdf -depth 1 -strip -background white -alpha off out_teste_convert.png\n",
        "fim = time.time()\n",
        "print(\"tempo de execução: {}\".format(fim - inicio))"
      ],
      "execution_count": 0,
      "outputs": []
    },
    {
      "cell_type": "code",
      "metadata": {
        "id": "oTXsxAWJVJhS",
        "colab_type": "code",
        "colab": {}
      },
      "source": [
        "# Transforma pdf em imagem usando o \"pdftoppm\"\n",
        "inicio = time.time()\n",
        "!pdftoppm teste_file.pdf out_teste_toppm -png\n",
        "fim = time.time()\n",
        "print(\"tempo de execução: {}\".format(fim - inicio))"
      ],
      "execution_count": 0,
      "outputs": []
    },
    {
      "cell_type": "code",
      "metadata": {
        "id": "V1zx65hJrtaT",
        "colab_type": "code",
        "colab": {}
      },
      "source": [
        "# Rodar só caso de erro no diretorio do tesseract uma vez para apontar o path do pytesseract\n",
        "# pytesseract.pytesseract.tesseract_cmd = '/usr/local/bin/pytesseract'"
      ],
      "execution_count": 0,
      "outputs": []
    },
    {
      "cell_type": "code",
      "metadata": {
        "id": "eZdBQ-r-YbEf",
        "colab_type": "code",
        "colab": {}
      },
      "source": [
        "# Verificar versao do tesseract\n",
        "!tesseract -v"
      ],
      "execution_count": 0,
      "outputs": []
    },
    {
      "cell_type": "code",
      "metadata": {
        "id": "V-1keOSJWSTX",
        "colab_type": "code",
        "colab": {}
      },
      "source": [
        "# TESTE USANDO PDFTOPPM\n",
        "# O PDFTOPPM cria uma imagem para cada pag do pdf\n",
        "inicio = time.time()\n",
        "image_1 = Image.open('out_teste_toppm-1.png')\n",
        "pag1_text = pytesseract.image_to_string(image_1, lang='por')\n",
        "print(pag1_text)\n",
        "fim = time.time()\n",
        "print(\"tempo de execução: {}\".format(fim - inicio))"
      ],
      "execution_count": 0,
      "outputs": []
    },
    {
      "cell_type": "code",
      "metadata": {
        "id": "euf74DItPFz1",
        "colab_type": "code",
        "colab": {}
      },
      "source": [
        "# TESTE USANDO CONVERT\n",
        "# O CONVERT cria uma imagem para cada pag do pdf\n",
        "inicio = time.time()\n",
        "image_0 = Image.open('out_teste_convert-0.png')\n",
        "pag0_text = pytesseract.image_to_string(image_0)\n",
        "print(pag0_text)\n",
        "fim = time.time()\n",
        "print(\"tempo de execução: {}\".format(fim - inicio))"
      ],
      "execution_count": 0,
      "outputs": []
    }
  ]
}