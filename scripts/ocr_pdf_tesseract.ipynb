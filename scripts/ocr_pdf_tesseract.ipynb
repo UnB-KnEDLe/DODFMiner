{
 "cells": [
  {
   "cell_type": "code",
   "execution_count": 1,
   "metadata": {
    "colab": {},
    "colab_type": "code",
    "id": "elfeCbJy8s0I"
   },
   "outputs": [],
   "source": [
    "######## Simples teste para analise de tempo das ########\n",
    "######## ferramentas de conversao de pdf para    ########\n",
    "######## imagem e ocr usando tesseract.          ########\n",
    "\n",
    "# Renomeie o arquivo que subir para para \"teste_file\""
   ]
  },
  {
   "cell_type": "code",
   "execution_count": 2,
   "metadata": {
    "colab": {},
    "colab_type": "code",
    "id": "khXMeG0AqKRb"
   },
   "outputs": [
    {
     "name": "stdout",
     "output_type": "stream",
     "text": [
      "E: Could not open lock file /var/lib/dpkg/lock-frontend - open (13: Permission denied)\r\n",
      "E: Unable to acquire the dpkg frontend lock (/var/lib/dpkg/lock-frontend), are you root?\r\n"
     ]
    }
   ],
   "source": [
    "# Instala as bibliotecas necessarias na maquina virtual\n",
    "!apt-get install tesseract-ocr imagemagick poppler-utils libtesseract-dev"
   ]
  },
  {
   "cell_type": "code",
   "execution_count": 3,
   "metadata": {
    "colab": {},
    "colab_type": "code",
    "id": "HyrbmJo43VJ9"
   },
   "outputs": [
    {
     "name": "stdout",
     "output_type": "stream",
     "text": [
      "Requirement already satisfied: pytesseract in /home/khalil/Envs/knedle_marcelo/lib/python3.6/site-packages (0.3.2)\n",
      "Requirement already satisfied: Pillow in /home/khalil/Envs/knedle_marcelo/lib/python3.6/site-packages (from pytesseract) (7.0.0)\n"
     ]
    }
   ],
   "source": [
    "# Instalaa o pytesseract\n",
    "\n",
    "!pip3 install pytesseract"
   ]
  },
  {
   "cell_type": "code",
   "execution_count": 4,
   "metadata": {
    "colab": {},
    "colab_type": "code",
    "id": "dFwzPWKKKi2e"
   },
   "outputs": [],
   "source": [
    "from PIL import Image\n",
    "import pytesseract\n",
    "import argparse\n",
    "import cv2\n",
    "import os\n",
    "import time\n",
    "import numpy as np"
   ]
  },
  {
   "cell_type": "code",
   "execution_count": null,
   "metadata": {
    "colab": {},
    "colab_type": "code",
    "id": "CFIiY-LfPWfj"
   },
   "outputs": [
    {
     "name": "stdout",
     "output_type": "stream",
     "text": [
      "[sudo] password for khalil: "
     ]
    }
   ],
   "source": [
    "# Rodar uma só vez para ter permissão de usar o convert na maquina virtual\n",
    "!sudo mv /etc/ImageMagick-6/policy.xml /etc/ImageMagick-6/policy.xmlout"
   ]
  },
  {
   "cell_type": "code",
   "execution_count": null,
   "metadata": {
    "colab": {},
    "colab_type": "code",
    "id": "tVWxZMdgJOa2"
   },
   "outputs": [],
   "source": [
    "# Transforma pdf em imagem usando o \"convert\"\n",
    "inicio = time.time()\n",
    "!convert -density 300 teste_file.pdf -depth 1 -strip -background white -alpha off out_teste_convert.png\n",
    "fim = time.time()\n",
    "print(\"tempo de execução: {}\".format(fim - inicio))"
   ]
  },
  {
   "cell_type": "code",
   "execution_count": null,
   "metadata": {
    "colab": {},
    "colab_type": "code",
    "id": "oTXsxAWJVJhS"
   },
   "outputs": [],
   "source": [
    "# Transforma pdf em imagem usando o \"pdftoppm\"\n",
    "inicio = time.time()\n",
    "!pdftoppm teste_file.pdf out_teste_toppm -png\n",
    "fim = time.time()\n",
    "print(\"tempo de execução: {}\".format(fim - inicio))"
   ]
  },
  {
   "cell_type": "code",
   "execution_count": null,
   "metadata": {
    "colab": {},
    "colab_type": "code",
    "id": "V1zx65hJrtaT"
   },
   "outputs": [],
   "source": [
    "# Rodar só caso de erro no diretorio do tesseract uma vez para apontar o path do pytesseract\n",
    "# pytesseract.pytesseract.tesseract_cmd = '/usr/local/bin/pytesseract'"
   ]
  },
  {
   "cell_type": "code",
   "execution_count": null,
   "metadata": {
    "colab": {},
    "colab_type": "code",
    "id": "eZdBQ-r-YbEf"
   },
   "outputs": [],
   "source": [
    "# Verificar versao do tesseract\n",
    "!tesseract -v"
   ]
  },
  {
   "cell_type": "code",
   "execution_count": null,
   "metadata": {
    "colab": {},
    "colab_type": "code",
    "id": "V-1keOSJWSTX"
   },
   "outputs": [],
   "source": [
    "# TESTE USANDO PDFTOPPM\n",
    "# O PDFTOPPM cria uma imagem para cada pag do pdf\n",
    "inicio = time.time()\n",
    "image_1 = Image.open('out_teste_toppm-1.png')\n",
    "pag1_text = pytesseract.image_to_string(image_1, lang='por')\n",
    "print(pag1_text)\n",
    "fim = time.time()\n",
    "print(\"tempo de execução: {}\".format(fim - inicio))"
   ]
  },
  {
   "cell_type": "code",
   "execution_count": null,
   "metadata": {
    "colab": {},
    "colab_type": "code",
    "id": "euf74DItPFz1"
   },
   "outputs": [],
   "source": [
    "# TESTE USANDO CONVERT\n",
    "# O CONVERT cria uma imagem para cada pag do pdf\n",
    "inicio = time.time()\n",
    "image_0 = Image.open('out_teste_convert-0.png')\n",
    "pag0_text = pytesseract.image_to_string(image_0)\n",
    "print(pag0_text)\n",
    "fim = time.time()\n",
    "print(\"tempo de execução: {}\".format(fim - inicio))"
   ]
  },
  {
   "cell_type": "code",
   "execution_count": null,
   "metadata": {},
   "outputs": [],
   "source": []
  }
 ],
 "metadata": {
  "accelerator": "GPU",
  "colab": {
   "collapsed_sections": [],
   "name": "ocr_pdf_tesseract.ipynb",
   "provenance": [],
   "toc_visible": true
  },
  "kernelspec": {
   "display_name": "Python 3",
   "language": "python",
   "name": "python3"
  },
  "language_info": {
   "codemirror_mode": {
    "name": "ipython",
    "version": 3
   },
   "file_extension": ".py",
   "mimetype": "text/x-python",
   "name": "python",
   "nbconvert_exporter": "python",
   "pygments_lexer": "ipython3",
   "version": "3.6.9"
  }
 },
 "nbformat": 4,
 "nbformat_minor": 1
}
