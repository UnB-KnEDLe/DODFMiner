{
 "cells": [
  {
   "cell_type": "code",
   "execution_count": 1,
   "source": [
    "from dodfminer import ContentExtractor\r\n",
    "from dodfminer import ActsExtractor\r\n",
    "import pandas as pd\r\n",
    "import numpy as np\r\n",
    "import glob"
   ],
   "outputs": [],
   "metadata": {}
  },
  {
   "cell_type": "code",
   "execution_count": 2,
   "source": [
    "pdf_files = glob.glob('2021/**/*.pdf')"
   ],
   "outputs": [],
   "metadata": {}
  },
  {
   "cell_type": "code",
   "execution_count": 3,
   "source": [
    "for pdf in pdf_files:\r\n",
    "        ContentExtractor.extract_text(pdf, single=True, block=False, sep='\\n<END_OF_BLOCK>\\n')"
   ],
   "outputs": [],
   "metadata": {}
  },
  {
   "cell_type": "code",
   "execution_count": 3,
   "source": [
    "txt_files = glob.glob('2021/**/*.txt')"
   ],
   "outputs": [],
   "metadata": {}
  },
  {
   "cell_type": "code",
   "execution_count": 4,
   "source": [
    "len(txt_files)"
   ],
   "outputs": [
    {
     "output_type": "execute_result",
     "data": {
      "text/plain": [
       "208"
      ]
     },
     "metadata": {},
     "execution_count": 4
    }
   ],
   "metadata": {}
  },
  {
   "cell_type": "code",
   "execution_count": 5,
   "source": [
    "df = ActsExtractor.get_act_df('extrato_licitacao', '2021/01_Janeiro/DODF 001 04-01-2021 1.txt', 'regex')"
   ],
   "outputs": [],
   "metadata": {}
  },
  {
   "cell_type": "code",
   "execution_count": 5,
   "source": [
    "COLUNAS = [\r\n",
    "    \"Tipo do Ato\", \r\n",
    "    \"Data DODF\",\r\n",
    "    \"Processo GDF/SEI\"\r\n",
    "]\r\n",
    "\r\n",
    "data = pd.DataFrame(columns=COLUNAS)"
   ],
   "outputs": [],
   "metadata": {}
  },
  {
   "cell_type": "code",
   "execution_count": 6,
   "source": [
    "data"
   ],
   "outputs": [
    {
     "output_type": "execute_result",
     "data": {
      "text/plain": [
       "Empty DataFrame\n",
       "Columns: [Tipo do Ato, Data DODF, Processo GDF/SEI]\n",
       "Index: []"
      ],
      "text/html": [
       "<div>\n",
       "<style scoped>\n",
       "    .dataframe tbody tr th:only-of-type {\n",
       "        vertical-align: middle;\n",
       "    }\n",
       "\n",
       "    .dataframe tbody tr th {\n",
       "        vertical-align: top;\n",
       "    }\n",
       "\n",
       "    .dataframe thead th {\n",
       "        text-align: right;\n",
       "    }\n",
       "</style>\n",
       "<table border=\"1\" class=\"dataframe\">\n",
       "  <thead>\n",
       "    <tr style=\"text-align: right;\">\n",
       "      <th></th>\n",
       "      <th>Tipo do Ato</th>\n",
       "      <th>Data DODF</th>\n",
       "      <th>Processo GDF/SEI</th>\n",
       "    </tr>\n",
       "  </thead>\n",
       "  <tbody>\n",
       "  </tbody>\n",
       "</table>\n",
       "</div>"
      ]
     },
     "metadata": {},
     "execution_count": 6
    }
   ],
   "metadata": {}
  },
  {
   "cell_type": "code",
   "execution_count": 7,
   "source": [
    "for txt in txt_files:\r\n",
    "    df = ActsExtractor.get_act_df('extrato_licitacao', txt, 'regex')\r\n",
    "    data = pd.concat([data, df], ignore_index=True)"
   ],
   "outputs": [],
   "metadata": {}
  },
  {
   "cell_type": "code",
   "execution_count": 8,
   "source": [
    "data"
   ],
   "outputs": [
    {
     "output_type": "execute_result",
     "data": {
      "text/plain": [
       "               Tipo do Ato Data DODF         Processo GDF/SEI\n",
       "0     Extrato de Licitação       NaN     141.00001010/2020-09\n",
       "1     Extrato de Licitação       NaN     141.00001008/2020-21\n",
       "2     Extrato de Licitação       NaN     141.00001011/2020-45\n",
       "3     Extrato de Licitação       NaN   00040-00015724/2020-61\n",
       "4     Extrato de Licitação       NaN   00040-00016182/2020-43\n",
       "...                    ...       ...                      ...\n",
       "1055  Extrato de Licitação       NaN                      NaN\n",
       "1056  Extrato de Licitação       NaN                      NaN\n",
       "1057  Extrato de Licitação       NaN   00150-00007471/2020-78\n",
       "1058  Extrato de Licitação       NaN   00001-00015057/2021-18\n",
       "1059  Extrato de Licitação       NaN   00092.00010694/2020-24\n",
       "\n",
       "[1060 rows x 3 columns]"
      ],
      "text/html": [
       "<div>\n",
       "<style scoped>\n",
       "    .dataframe tbody tr th:only-of-type {\n",
       "        vertical-align: middle;\n",
       "    }\n",
       "\n",
       "    .dataframe tbody tr th {\n",
       "        vertical-align: top;\n",
       "    }\n",
       "\n",
       "    .dataframe thead th {\n",
       "        text-align: right;\n",
       "    }\n",
       "</style>\n",
       "<table border=\"1\" class=\"dataframe\">\n",
       "  <thead>\n",
       "    <tr style=\"text-align: right;\">\n",
       "      <th></th>\n",
       "      <th>Tipo do Ato</th>\n",
       "      <th>Data DODF</th>\n",
       "      <th>Processo GDF/SEI</th>\n",
       "    </tr>\n",
       "  </thead>\n",
       "  <tbody>\n",
       "    <tr>\n",
       "      <th>0</th>\n",
       "      <td>Extrato de Licitação</td>\n",
       "      <td>NaN</td>\n",
       "      <td>141.00001010/2020-09</td>\n",
       "    </tr>\n",
       "    <tr>\n",
       "      <th>1</th>\n",
       "      <td>Extrato de Licitação</td>\n",
       "      <td>NaN</td>\n",
       "      <td>141.00001008/2020-21</td>\n",
       "    </tr>\n",
       "    <tr>\n",
       "      <th>2</th>\n",
       "      <td>Extrato de Licitação</td>\n",
       "      <td>NaN</td>\n",
       "      <td>141.00001011/2020-45</td>\n",
       "    </tr>\n",
       "    <tr>\n",
       "      <th>3</th>\n",
       "      <td>Extrato de Licitação</td>\n",
       "      <td>NaN</td>\n",
       "      <td>00040-00015724/2020-61</td>\n",
       "    </tr>\n",
       "    <tr>\n",
       "      <th>4</th>\n",
       "      <td>Extrato de Licitação</td>\n",
       "      <td>NaN</td>\n",
       "      <td>00040-00016182/2020-43</td>\n",
       "    </tr>\n",
       "    <tr>\n",
       "      <th>...</th>\n",
       "      <td>...</td>\n",
       "      <td>...</td>\n",
       "      <td>...</td>\n",
       "    </tr>\n",
       "    <tr>\n",
       "      <th>1055</th>\n",
       "      <td>Extrato de Licitação</td>\n",
       "      <td>NaN</td>\n",
       "      <td>NaN</td>\n",
       "    </tr>\n",
       "    <tr>\n",
       "      <th>1056</th>\n",
       "      <td>Extrato de Licitação</td>\n",
       "      <td>NaN</td>\n",
       "      <td>NaN</td>\n",
       "    </tr>\n",
       "    <tr>\n",
       "      <th>1057</th>\n",
       "      <td>Extrato de Licitação</td>\n",
       "      <td>NaN</td>\n",
       "      <td>00150-00007471/2020-78</td>\n",
       "    </tr>\n",
       "    <tr>\n",
       "      <th>1058</th>\n",
       "      <td>Extrato de Licitação</td>\n",
       "      <td>NaN</td>\n",
       "      <td>00001-00015057/2021-18</td>\n",
       "    </tr>\n",
       "    <tr>\n",
       "      <th>1059</th>\n",
       "      <td>Extrato de Licitação</td>\n",
       "      <td>NaN</td>\n",
       "      <td>00092.00010694/2020-24</td>\n",
       "    </tr>\n",
       "  </tbody>\n",
       "</table>\n",
       "<p>1060 rows × 3 columns</p>\n",
       "</div>"
      ]
     },
     "metadata": {},
     "execution_count": 8
    }
   ],
   "metadata": {}
  },
  {
   "cell_type": "code",
   "execution_count": 14,
   "source": [
    "data.isnull().sum()"
   ],
   "outputs": [
    {
     "output_type": "execute_result",
     "data": {
      "text/plain": [
       "Tipo do Ato            0\n",
       "Data DODF           1058\n",
       "Processo GDF/SEI     373\n",
       "dtype: int64"
      ]
     },
     "metadata": {},
     "execution_count": 14
    }
   ],
   "metadata": {}
  },
  {
   "cell_type": "code",
   "execution_count": 16,
   "source": [
    "data2.isnull().sum()"
   ],
   "outputs": [
    {
     "output_type": "execute_result",
     "data": {
      "text/plain": [
       "Tipo do Ato           0\n",
       "Data DODF           121\n",
       "Processo GDF/SEI     97\n",
       "dtype: int64"
      ]
     },
     "metadata": {},
     "execution_count": 16
    }
   ],
   "metadata": {}
  },
  {
   "cell_type": "code",
   "execution_count": 9,
   "source": [
    "COLUNAS = [\r\n",
    "    \"Tipo do Ato\", \r\n",
    "    \"Data DODF\",\r\n",
    "    \"Processo GDF/SEI\"\r\n",
    "]\r\n",
    "\r\n",
    "data2 = pd.DataFrame(columns=COLUNAS)"
   ],
   "outputs": [],
   "metadata": {}
  },
  {
   "cell_type": "code",
   "execution_count": 10,
   "source": [
    "for txt in txt_files:\r\n",
    "    df2 = ActsExtractor.get_act_df('abertura_licitacao', txt, 'regex')\r\n",
    "    data2 = pd.concat([data2, df2], ignore_index=True)"
   ],
   "outputs": [],
   "metadata": {}
  },
  {
   "cell_type": "code",
   "execution_count": 11,
   "source": [
    "data2"
   ],
   "outputs": [
    {
     "output_type": "execute_result",
     "data": {
      "text/plain": [
       "               Tipo do Ato Data DODF         Processo GDF/SEI\n",
       "0    Abertura de Licitação       NaN                      NaN\n",
       "1    Abertura de Licitação       NaN                      NaN\n",
       "2    Abertura de Licitação       NaN                      NaN\n",
       "3    Abertura de Licitação       NaN   00063-00004536/2020-58\n",
       "4    Abertura de Licitação       NaN                      NaN\n",
       "..                     ...       ...                      ...\n",
       "116  Abertura de Licitação       NaN   00063-00001472/2021-14\n",
       "117  Abertura de Licitação       NaN                      NaN\n",
       "118  Abertura de Licitação       NaN                      NaN\n",
       "119  Abertura de Licitação       NaN                      NaN\n",
       "120  Abertura de Licitação       NaN                      NaN\n",
       "\n",
       "[121 rows x 3 columns]"
      ],
      "text/html": [
       "<div>\n",
       "<style scoped>\n",
       "    .dataframe tbody tr th:only-of-type {\n",
       "        vertical-align: middle;\n",
       "    }\n",
       "\n",
       "    .dataframe tbody tr th {\n",
       "        vertical-align: top;\n",
       "    }\n",
       "\n",
       "    .dataframe thead th {\n",
       "        text-align: right;\n",
       "    }\n",
       "</style>\n",
       "<table border=\"1\" class=\"dataframe\">\n",
       "  <thead>\n",
       "    <tr style=\"text-align: right;\">\n",
       "      <th></th>\n",
       "      <th>Tipo do Ato</th>\n",
       "      <th>Data DODF</th>\n",
       "      <th>Processo GDF/SEI</th>\n",
       "    </tr>\n",
       "  </thead>\n",
       "  <tbody>\n",
       "    <tr>\n",
       "      <th>0</th>\n",
       "      <td>Abertura de Licitação</td>\n",
       "      <td>NaN</td>\n",
       "      <td>NaN</td>\n",
       "    </tr>\n",
       "    <tr>\n",
       "      <th>1</th>\n",
       "      <td>Abertura de Licitação</td>\n",
       "      <td>NaN</td>\n",
       "      <td>NaN</td>\n",
       "    </tr>\n",
       "    <tr>\n",
       "      <th>2</th>\n",
       "      <td>Abertura de Licitação</td>\n",
       "      <td>NaN</td>\n",
       "      <td>NaN</td>\n",
       "    </tr>\n",
       "    <tr>\n",
       "      <th>3</th>\n",
       "      <td>Abertura de Licitação</td>\n",
       "      <td>NaN</td>\n",
       "      <td>00063-00004536/2020-58</td>\n",
       "    </tr>\n",
       "    <tr>\n",
       "      <th>4</th>\n",
       "      <td>Abertura de Licitação</td>\n",
       "      <td>NaN</td>\n",
       "      <td>NaN</td>\n",
       "    </tr>\n",
       "    <tr>\n",
       "      <th>...</th>\n",
       "      <td>...</td>\n",
       "      <td>...</td>\n",
       "      <td>...</td>\n",
       "    </tr>\n",
       "    <tr>\n",
       "      <th>116</th>\n",
       "      <td>Abertura de Licitação</td>\n",
       "      <td>NaN</td>\n",
       "      <td>00063-00001472/2021-14</td>\n",
       "    </tr>\n",
       "    <tr>\n",
       "      <th>117</th>\n",
       "      <td>Abertura de Licitação</td>\n",
       "      <td>NaN</td>\n",
       "      <td>NaN</td>\n",
       "    </tr>\n",
       "    <tr>\n",
       "      <th>118</th>\n",
       "      <td>Abertura de Licitação</td>\n",
       "      <td>NaN</td>\n",
       "      <td>NaN</td>\n",
       "    </tr>\n",
       "    <tr>\n",
       "      <th>119</th>\n",
       "      <td>Abertura de Licitação</td>\n",
       "      <td>NaN</td>\n",
       "      <td>NaN</td>\n",
       "    </tr>\n",
       "    <tr>\n",
       "      <th>120</th>\n",
       "      <td>Abertura de Licitação</td>\n",
       "      <td>NaN</td>\n",
       "      <td>NaN</td>\n",
       "    </tr>\n",
       "  </tbody>\n",
       "</table>\n",
       "<p>121 rows × 3 columns</p>\n",
       "</div>"
      ]
     },
     "metadata": {},
     "execution_count": 11
    }
   ],
   "metadata": {}
  },
  {
   "cell_type": "code",
   "execution_count": null,
   "source": [
    "# 12 - EXTRATO(?:S)?\\s+D[EO]\\s+CONTRATO                                                      - 10031\r\n",
    "# 6  - AVISO(?:S)?\\s+D[EO]\\s+LICITACAO                                                       - 9582\r\n",
    "# 4  - AVISO(?:S)?\\s+D[EO]\\s+RESULTADO\\s+D[EO]\\s+JULGAMENTO|AVISO(?:S)?\\s+D[EO]\\s+JULGAMENTO - 3314\r\n",
    "# 5  - AVISO(?:S)?\\s+D[EO]\\s+DECLARACAO\\s+D[EO]\\s+VENCEDOR|AVISO(?:S)?\\s+D[EO]\\s+RESULTADO   - 3009\r\n",
    "# 3  - AVISO(?:S)?\\s+D[EO]\\s+HOMOLOGACAO\\s+E\\s+CONVOCACAO|AVISO(?:S)?\\s+D[EO]\\s+CONVOCACAO   - 1902\r\n",
    "# 1  - AVISO(?:S)?\\s+D[EO]\\s+ABERTURA\\s+D[EO]\\s+LICITACAO                                    - 769\r\n"
   ],
   "outputs": [],
   "metadata": {}
  }
 ],
 "metadata": {
  "orig_nbformat": 4,
  "language_info": {
   "name": "python",
   "version": "3.6.8",
   "mimetype": "text/x-python",
   "codemirror_mode": {
    "name": "ipython",
    "version": 3
   },
   "pygments_lexer": "ipython3",
   "nbconvert_exporter": "python",
   "file_extension": ".py"
  },
  "kernelspec": {
   "name": "python3",
   "display_name": "Python 3.6.8 64-bit"
  },
  "interpreter": {
   "hash": "6a5ed2ccc9d2ba59c3542bbda7f71bcfb6eae0ef46ae44aa32b9fd054184bad6"
  }
 },
 "nbformat": 4,
 "nbformat_minor": 2
}