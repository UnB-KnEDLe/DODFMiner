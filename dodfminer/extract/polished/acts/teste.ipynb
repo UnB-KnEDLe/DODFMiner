{
 "cells": [
  {
   "cell_type": "code",
   "execution_count": 9,
   "source": [
    "from dodfminer import ContentExtractor\r\n",
    "from dodfminer import ActsExtractor\r\n",
    "import pandas as pd\r\n",
    "import numpy as np\r\n",
    "import glob\r\n",
    "import re"
   ],
   "outputs": [],
   "metadata": {}
  },
  {
   "cell_type": "code",
   "execution_count": 10,
   "source": [
    "pdf_files = glob.glob('2021/**/*.pdf')"
   ],
   "outputs": [],
   "metadata": {}
  },
  {
   "cell_type": "code",
   "execution_count": 11,
   "source": [
    "# for pdf in pdf_files:\r\n",
    "#         ContentExtractor.extract_text(pdf, single=True, block=False, sep='\\n<END_OF_BLOCK>\\n')"
   ],
   "outputs": [],
   "metadata": {}
  },
  {
   "cell_type": "code",
   "execution_count": 12,
   "source": [
    "txt_files = glob.glob('2021/**/*.txt')"
   ],
   "outputs": [],
   "metadata": {}
  },
  {
   "cell_type": "code",
   "execution_count": 13,
   "source": [
    "len(txt_files)"
   ],
   "outputs": [
    {
     "output_type": "execute_result",
     "data": {
      "text/plain": [
       "208"
      ]
     },
     "metadata": {},
     "execution_count": 13
    }
   ],
   "metadata": {}
  },
  {
   "cell_type": "code",
   "execution_count": 14,
   "source": [
    "# ActsExtractor.get_act_df('extrato_licitacao', '2021/01_Janeiro/DODF 001 04-01-2021 1.txt', 'regex')\r\n",
    "teste = ActsExtractor.get_act_df('abertura_licitacao', '2021/01_Janeiro/DODF 005 08-01-2021 1.txt', 'regex')\r\n",
    "teste"
   ],
   "outputs": [
    {
     "output_type": "execute_result",
     "data": {
      "text/plain": [
       "             Tipo do Ato  DODF          Data Ato/DODF  Processo GDF/SEI  \\\n",
       "0  Abertura de Licitação   NaN  07 de janeiro de 2021               NaN   \n",
       "\n",
       "                                               Texto  \n",
       "0  \\nBrasilia/DF, 07 de janeiro de 2021\\n<END_OF_...  "
      ],
      "text/html": [
       "<div>\n",
       "<style scoped>\n",
       "    .dataframe tbody tr th:only-of-type {\n",
       "        vertical-align: middle;\n",
       "    }\n",
       "\n",
       "    .dataframe tbody tr th {\n",
       "        vertical-align: top;\n",
       "    }\n",
       "\n",
       "    .dataframe thead th {\n",
       "        text-align: right;\n",
       "    }\n",
       "</style>\n",
       "<table border=\"1\" class=\"dataframe\">\n",
       "  <thead>\n",
       "    <tr style=\"text-align: right;\">\n",
       "      <th></th>\n",
       "      <th>Tipo do Ato</th>\n",
       "      <th>DODF</th>\n",
       "      <th>Data Ato/DODF</th>\n",
       "      <th>Processo GDF/SEI</th>\n",
       "      <th>Texto</th>\n",
       "    </tr>\n",
       "  </thead>\n",
       "  <tbody>\n",
       "    <tr>\n",
       "      <th>0</th>\n",
       "      <td>Abertura de Licitação</td>\n",
       "      <td>NaN</td>\n",
       "      <td>07 de janeiro de 2021</td>\n",
       "      <td>NaN</td>\n",
       "      <td>\\nBrasilia/DF, 07 de janeiro de 2021\\n&lt;END_OF_...</td>\n",
       "    </tr>\n",
       "  </tbody>\n",
       "</table>\n",
       "</div>"
      ]
     },
     "metadata": {},
     "execution_count": 14
    }
   ],
   "metadata": {}
  },
  {
   "cell_type": "code",
   "execution_count": 20,
   "source": [
    "COLUNAS = [\r\n",
    "    \"Tipo do Ato\",\r\n",
    "    \"DODF\", \r\n",
    "    \"Data Ato/DODF\",\r\n",
    "    \"Processo GDF/SEI\",\r\n",
    "    \"Texto\",\r\n",
    "]\r\n",
    "\r\n",
    "data = pd.DataFrame(columns=COLUNAS)"
   ],
   "outputs": [],
   "metadata": {}
  },
  {
   "cell_type": "code",
   "execution_count": 21,
   "source": [
    "for txt in txt_files:\r\n",
    "    df = ActsExtractor.get_act_df('aviso_homologacao_licitacao', txt, 'regex')\r\n",
    "    for idx in range(len(df)):\r\n",
    "        df['DODF'] = txt[:-4]\r\n",
    "        if pd.isna(df['Data Ato/DODF'][idx]):\r\n",
    "            df['Data Ato/DODF'][idx] = re.findall(r'\\d{2}-\\d{2}-\\d{4}', df['DODF'][idx])[0]\r\n",
    "    data = pd.concat([data, df], ignore_index=True)"
   ],
   "outputs": [
    {
     "output_type": "stream",
     "name": "stderr",
     "text": [
      "C:\\Users\\ianfi\\AppData\\Roaming\\Python\\Python36\\site-packages\\ipykernel_launcher.py:6: SettingWithCopyWarning: \n",
      "A value is trying to be set on a copy of a slice from a DataFrame\n",
      "\n",
      "See the caveats in the documentation: https://pandas.pydata.org/pandas-docs/stable/user_guide/indexing.html#returning-a-view-versus-a-copy\n",
      "  \n",
      "C:\\Users\\ianfi\\AppData\\Roaming\\Python\\Python36\\site-packages\\pandas\\core\\indexing.py:670: SettingWithCopyWarning: \n",
      "A value is trying to be set on a copy of a slice from a DataFrame\n",
      "\n",
      "See the caveats in the documentation: https://pandas.pydata.org/pandas-docs/stable/user_guide/indexing.html#returning-a-view-versus-a-copy\n",
      "  iloc._setitem_with_indexer(indexer, value)\n"
     ]
    }
   ],
   "metadata": {}
  },
  {
   "cell_type": "code",
   "execution_count": 22,
   "source": [
    "data"
   ],
   "outputs": [
    {
     "output_type": "execute_result",
     "data": {
      "text/plain": [
       "              Tipo do Ato                                   DODF  \\\n",
       "0    Aviso de Homologação  2021\\01_Janeiro\\DODF 003 06-01-2021 1   \n",
       "1    Aviso de Homologação  2021\\01_Janeiro\\DODF 003 06-01-2021 1   \n",
       "2    Aviso de Homologação  2021\\01_Janeiro\\DODF 004 07-01-2021 1   \n",
       "3    Aviso de Homologação  2021\\01_Janeiro\\DODF 004 07-01-2021 1   \n",
       "4    Aviso de Homologação  2021\\01_Janeiro\\DODF 004 07-01-2021 1   \n",
       "..                    ...                                    ...   \n",
       "199  Aviso de Homologação    2021\\07_Julho\\DODF 133 16-07-2021 1   \n",
       "200  Aviso de Homologação    2021\\07_Julho\\DODF 133 16-07-2021 1   \n",
       "201  Aviso de Homologação    2021\\07_Julho\\DODF 134 19-07-2021 1   \n",
       "202  Aviso de Homologação    2021\\07_Julho\\DODF 134 19-07-2021 1   \n",
       "203  Aviso de Homologação    2021\\07_Julho\\DODF 134 19-07-2021 1   \n",
       "\n",
       "    Data Ato/DODF Processo GDF/SEI  \\\n",
       "0      06-01-2021              NaN   \n",
       "1      06-01-2021              NaN   \n",
       "2      07-01-2021              NaN   \n",
       "3      07-01-2021              NaN   \n",
       "4      07-01-2021              NaN   \n",
       "..            ...              ...   \n",
       "199    16-07-2021              NaN   \n",
       "200    16-07-2021              NaN   \n",
       "201    19-07-2021              NaN   \n",
       "202    19-07-2021              NaN   \n",
       "203    19-07-2021              NaN   \n",
       "\n",
       "                                                 Texto  \n",
       "0                            \\nDiretor\\n<END_OF_BLOCK>  \n",
       "1     \\nBRUNO CESAR SANTANA DE MENESES\\n<END_OF_BLOCK>  \n",
       "2           \\nRECONHECIMENTO DE DIVIDA\\n<END_OF_BLOCK>  \n",
       "3     \\nBRUNO CESAR SANTANA DE MENESES\\n<END_OF_BLOCK>  \n",
       "4    \\nPAGAMENTO ou para que manifestem o interesse...  \n",
       "..                                                 ...  \n",
       "199  \\nDocumento assinado digitalmente, original em...  \n",
       "200  \\nmoradores de Samambaia,para comparecerem a A...  \n",
       "201   \\nBRUNO CESAR SANTANA DE MENESES\\n<END_OF_BLOCK>  \n",
       "202  \\nBrasilia/DF,16 de julho de 2021\\n<END_OF_BLOCK>  \n",
       "203   \\nBRUNO CESAR SANTANA DE MENESES\\n<END_OF_BLOCK>  \n",
       "\n",
       "[204 rows x 5 columns]"
      ],
      "text/html": [
       "<div>\n",
       "<style scoped>\n",
       "    .dataframe tbody tr th:only-of-type {\n",
       "        vertical-align: middle;\n",
       "    }\n",
       "\n",
       "    .dataframe tbody tr th {\n",
       "        vertical-align: top;\n",
       "    }\n",
       "\n",
       "    .dataframe thead th {\n",
       "        text-align: right;\n",
       "    }\n",
       "</style>\n",
       "<table border=\"1\" class=\"dataframe\">\n",
       "  <thead>\n",
       "    <tr style=\"text-align: right;\">\n",
       "      <th></th>\n",
       "      <th>Tipo do Ato</th>\n",
       "      <th>DODF</th>\n",
       "      <th>Data Ato/DODF</th>\n",
       "      <th>Processo GDF/SEI</th>\n",
       "      <th>Texto</th>\n",
       "    </tr>\n",
       "  </thead>\n",
       "  <tbody>\n",
       "    <tr>\n",
       "      <th>0</th>\n",
       "      <td>Aviso de Homologação</td>\n",
       "      <td>2021\\01_Janeiro\\DODF 003 06-01-2021 1</td>\n",
       "      <td>06-01-2021</td>\n",
       "      <td>NaN</td>\n",
       "      <td>\\nDiretor\\n&lt;END_OF_BLOCK&gt;</td>\n",
       "    </tr>\n",
       "    <tr>\n",
       "      <th>1</th>\n",
       "      <td>Aviso de Homologação</td>\n",
       "      <td>2021\\01_Janeiro\\DODF 003 06-01-2021 1</td>\n",
       "      <td>06-01-2021</td>\n",
       "      <td>NaN</td>\n",
       "      <td>\\nBRUNO CESAR SANTANA DE MENESES\\n&lt;END_OF_BLOCK&gt;</td>\n",
       "    </tr>\n",
       "    <tr>\n",
       "      <th>2</th>\n",
       "      <td>Aviso de Homologação</td>\n",
       "      <td>2021\\01_Janeiro\\DODF 004 07-01-2021 1</td>\n",
       "      <td>07-01-2021</td>\n",
       "      <td>NaN</td>\n",
       "      <td>\\nRECONHECIMENTO DE DIVIDA\\n&lt;END_OF_BLOCK&gt;</td>\n",
       "    </tr>\n",
       "    <tr>\n",
       "      <th>3</th>\n",
       "      <td>Aviso de Homologação</td>\n",
       "      <td>2021\\01_Janeiro\\DODF 004 07-01-2021 1</td>\n",
       "      <td>07-01-2021</td>\n",
       "      <td>NaN</td>\n",
       "      <td>\\nBRUNO CESAR SANTANA DE MENESES\\n&lt;END_OF_BLOCK&gt;</td>\n",
       "    </tr>\n",
       "    <tr>\n",
       "      <th>4</th>\n",
       "      <td>Aviso de Homologação</td>\n",
       "      <td>2021\\01_Janeiro\\DODF 004 07-01-2021 1</td>\n",
       "      <td>07-01-2021</td>\n",
       "      <td>NaN</td>\n",
       "      <td>\\nPAGAMENTO ou para que manifestem o interesse...</td>\n",
       "    </tr>\n",
       "    <tr>\n",
       "      <th>...</th>\n",
       "      <td>...</td>\n",
       "      <td>...</td>\n",
       "      <td>...</td>\n",
       "      <td>...</td>\n",
       "      <td>...</td>\n",
       "    </tr>\n",
       "    <tr>\n",
       "      <th>199</th>\n",
       "      <td>Aviso de Homologação</td>\n",
       "      <td>2021\\07_Julho\\DODF 133 16-07-2021 1</td>\n",
       "      <td>16-07-2021</td>\n",
       "      <td>NaN</td>\n",
       "      <td>\\nDocumento assinado digitalmente, original em...</td>\n",
       "    </tr>\n",
       "    <tr>\n",
       "      <th>200</th>\n",
       "      <td>Aviso de Homologação</td>\n",
       "      <td>2021\\07_Julho\\DODF 133 16-07-2021 1</td>\n",
       "      <td>16-07-2021</td>\n",
       "      <td>NaN</td>\n",
       "      <td>\\nmoradores de Samambaia,para comparecerem a A...</td>\n",
       "    </tr>\n",
       "    <tr>\n",
       "      <th>201</th>\n",
       "      <td>Aviso de Homologação</td>\n",
       "      <td>2021\\07_Julho\\DODF 134 19-07-2021 1</td>\n",
       "      <td>19-07-2021</td>\n",
       "      <td>NaN</td>\n",
       "      <td>\\nBRUNO CESAR SANTANA DE MENESES\\n&lt;END_OF_BLOCK&gt;</td>\n",
       "    </tr>\n",
       "    <tr>\n",
       "      <th>202</th>\n",
       "      <td>Aviso de Homologação</td>\n",
       "      <td>2021\\07_Julho\\DODF 134 19-07-2021 1</td>\n",
       "      <td>19-07-2021</td>\n",
       "      <td>NaN</td>\n",
       "      <td>\\nBrasilia/DF,16 de julho de 2021\\n&lt;END_OF_BLOCK&gt;</td>\n",
       "    </tr>\n",
       "    <tr>\n",
       "      <th>203</th>\n",
       "      <td>Aviso de Homologação</td>\n",
       "      <td>2021\\07_Julho\\DODF 134 19-07-2021 1</td>\n",
       "      <td>19-07-2021</td>\n",
       "      <td>NaN</td>\n",
       "      <td>\\nBRUNO CESAR SANTANA DE MENESES\\n&lt;END_OF_BLOCK&gt;</td>\n",
       "    </tr>\n",
       "  </tbody>\n",
       "</table>\n",
       "<p>204 rows × 5 columns</p>\n",
       "</div>"
      ]
     },
     "metadata": {},
     "execution_count": 22
    }
   ],
   "metadata": {}
  },
  {
   "cell_type": "code",
   "execution_count": 10,
   "source": [
    "data.isnull().sum()"
   ],
   "outputs": [
    {
     "output_type": "execute_result",
     "data": {
      "text/plain": [
       "Tipo do Ato           0\n",
       "DODF                  0\n",
       "Data Ato/DODF       115\n",
       "Processo GDF/SEI    108\n",
       "Texto                 0\n",
       "dtype: int64"
      ]
     },
     "metadata": {},
     "execution_count": 10
    }
   ],
   "metadata": {}
  },
  {
   "cell_type": "code",
   "execution_count": 11,
   "source": [
    "# 12 - EXTRATO(?:S)?\\s+D[EO]\\s+CONTRATO                                                      - 10031\r\n",
    "# 6  - AVISO(?:S)?\\s+D[EO]\\s+LICITACAO                                                       - 9582\r\n",
    "# 4  - AVISO(?:S)?\\s+D[EO]\\s+RESULTADO\\s+D[EO]\\s+JULGAMENTO|AVISO(?:S)?\\s+D[EO]\\s+JULGAMENTO - 3314\r\n",
    "# 5  - AVISO(?:S)?\\s+D[EO]\\s+DECLARACAO\\s+D[EO]\\s+VENCEDOR|AVISO(?:S)?\\s+D[EO]\\s+RESULTADO   - 3009\r\n",
    "# 3  - AVISO(?:S)?\\s+D[EO]\\s+HOMOLOGACAO\\s+E\\s+CONVOCACAO|AVISO(?:S)?\\s+D[EO]\\s+CONVOCACAO   - 1902\r\n",
    "# 1  - AVISO(?:S)?\\s+D[EO]\\s+ABERTURA\\s+D[EO]\\s+LICITACAO                                    - 769\r\n"
   ],
   "outputs": [],
   "metadata": {}
  },
  {
   "cell_type": "code",
   "execution_count": 12,
   "source": [
    "texto = '2021/01_Janeiro/DODF 001 04-01-2021 1.txt'\r\n",
    "\r\n",
    "print(texto[:-4])"
   ],
   "outputs": [
    {
     "output_type": "stream",
     "name": "stdout",
     "text": [
      "2021/01_Janeiro/DODF 001 04-01-2021 1\n"
     ]
    }
   ],
   "metadata": {}
  },
  {
   "cell_type": "code",
   "execution_count": null,
   "source": [],
   "outputs": [],
   "metadata": {}
  }
 ],
 "metadata": {
  "orig_nbformat": 4,
  "language_info": {
   "name": "python",
   "version": "3.6.8",
   "mimetype": "text/x-python",
   "codemirror_mode": {
    "name": "ipython",
    "version": 3
   },
   "pygments_lexer": "ipython3",
   "nbconvert_exporter": "python",
   "file_extension": ".py"
  },
  "kernelspec": {
   "name": "python3",
   "display_name": "Python 3.6.8 64-bit"
  },
  "interpreter": {
   "hash": "6a5ed2ccc9d2ba59c3542bbda7f71bcfb6eae0ef46ae44aa32b9fd054184bad6"
  }
 },
 "nbformat": 4,
 "nbformat_minor": 2
}