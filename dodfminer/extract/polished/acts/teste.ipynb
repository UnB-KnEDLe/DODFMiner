{
 "cells": [
  {
   "cell_type": "code",
   "execution_count": 1,
   "source": [
    "from dodfminer import ContentExtractor\r\n",
    "from dodfminer import ActsExtractor\r\n",
    "import pandas as pd\r\n",
    "import numpy as np\r\n",
    "import glob\r\n",
    "import re"
   ],
   "outputs": [],
   "metadata": {}
  },
  {
   "cell_type": "code",
   "execution_count": 2,
   "source": [
    "pdf_files = glob.glob('2021/**/*.pdf')"
   ],
   "outputs": [],
   "metadata": {}
  },
  {
   "cell_type": "code",
   "execution_count": 3,
   "source": [
    "# for pdf in pdf_files:\r\n",
    "#         ContentExtractor.extract_text(pdf, single=True, block=False, sep='\\n<END_OF_BLOCK>\\n')"
   ],
   "outputs": [],
   "metadata": {}
  },
  {
   "cell_type": "code",
   "execution_count": 4,
   "source": [
    "txt_files = glob.glob('2021/**/*.txt')"
   ],
   "outputs": [],
   "metadata": {}
  },
  {
   "cell_type": "code",
   "execution_count": 5,
   "source": [
    "len(txt_files)"
   ],
   "outputs": [
    {
     "output_type": "execute_result",
     "data": {
      "text/plain": [
       "208"
      ]
     },
     "metadata": {},
     "execution_count": 5
    }
   ],
   "metadata": {}
  },
  {
   "cell_type": "code",
   "execution_count": 6,
   "source": [
    "# ActsExtractor.get_act_df('extrato_licitacao', '2021/01_Janeiro/DODF 001 04-01-2021 1.txt', 'regex')\r\n",
    "teste = ActsExtractor.get_act_df('abertura_licitacao', '2021/01_Janeiro/DODF 005 08-01-2021 1.txt', 'regex')\r\n",
    "teste"
   ],
   "outputs": [
    {
     "output_type": "execute_result",
     "data": {
      "text/plain": [
       "             Tipo do Ato  DODF  Data Ato/DODF         Processo GDF/SEI  \\\n",
       "0  Abertura de Licitação   NaN            NaN   00050-00032913/2020-61   \n",
       "\n",
       "                                               Texto  \n",
       "0  \\nProcesso: 00050-00032913/2020-61. TIPO: Meno...  "
      ],
      "text/html": [
       "<div>\n",
       "<style scoped>\n",
       "    .dataframe tbody tr th:only-of-type {\n",
       "        vertical-align: middle;\n",
       "    }\n",
       "\n",
       "    .dataframe tbody tr th {\n",
       "        vertical-align: top;\n",
       "    }\n",
       "\n",
       "    .dataframe thead th {\n",
       "        text-align: right;\n",
       "    }\n",
       "</style>\n",
       "<table border=\"1\" class=\"dataframe\">\n",
       "  <thead>\n",
       "    <tr style=\"text-align: right;\">\n",
       "      <th></th>\n",
       "      <th>Tipo do Ato</th>\n",
       "      <th>DODF</th>\n",
       "      <th>Data Ato/DODF</th>\n",
       "      <th>Processo GDF/SEI</th>\n",
       "      <th>Texto</th>\n",
       "    </tr>\n",
       "  </thead>\n",
       "  <tbody>\n",
       "    <tr>\n",
       "      <th>0</th>\n",
       "      <td>Abertura de Licitação</td>\n",
       "      <td>NaN</td>\n",
       "      <td>NaN</td>\n",
       "      <td>00050-00032913/2020-61</td>\n",
       "      <td>\\nProcesso: 00050-00032913/2020-61. TIPO: Meno...</td>\n",
       "    </tr>\n",
       "  </tbody>\n",
       "</table>\n",
       "</div>"
      ]
     },
     "metadata": {},
     "execution_count": 6
    }
   ],
   "metadata": {}
  },
  {
   "cell_type": "code",
   "execution_count": 7,
   "source": [
    "COLUNAS = [\r\n",
    "    \"Tipo do Ato\",\r\n",
    "    \"DODF\", \r\n",
    "    \"Data Ato/DODF\",\r\n",
    "    \"Processo GDF/SEI\",\r\n",
    "    \"Texto\",\r\n",
    "]\r\n",
    "\r\n",
    "data = pd.DataFrame(columns=COLUNAS)"
   ],
   "outputs": [],
   "metadata": {}
  },
  {
   "cell_type": "code",
   "execution_count": 8,
   "source": [
    "for txt in txt_files:\r\n",
    "    df = ActsExtractor.get_act_df('abertura_licitacao', txt, 'regex')\r\n",
    "    for idx in range(len(df)):\r\n",
    "        df['DODF'] = txt[:-4]\r\n",
    "        if pd.isna(df['Data Ato/DODF'][idx]):\r\n",
    "            df['Data Ato/DODF'][idx] = re.findall(r'\\d{2}-\\d{2}-\\d{4}', df['DODF'][idx])[0]\r\n",
    "    data = pd.concat([data, df], ignore_index=True)"
   ],
   "outputs": [
    {
     "output_type": "stream",
     "name": "stderr",
     "text": [
      "C:\\Users\\ianfi\\AppData\\Roaming\\Python\\Python36\\site-packages\\ipykernel_launcher.py:6: SettingWithCopyWarning: \n",
      "A value is trying to be set on a copy of a slice from a DataFrame\n",
      "\n",
      "See the caveats in the documentation: https://pandas.pydata.org/pandas-docs/stable/user_guide/indexing.html#returning-a-view-versus-a-copy\n",
      "  \n",
      "C:\\Users\\ianfi\\AppData\\Roaming\\Python\\Python36\\site-packages\\pandas\\core\\indexing.py:670: SettingWithCopyWarning: \n",
      "A value is trying to be set on a copy of a slice from a DataFrame\n",
      "\n",
      "See the caveats in the documentation: https://pandas.pydata.org/pandas-docs/stable/user_guide/indexing.html#returning-a-view-versus-a-copy\n",
      "  iloc._setitem_with_indexer(indexer, value)\n"
     ]
    }
   ],
   "metadata": {}
  },
  {
   "cell_type": "code",
   "execution_count": 9,
   "source": [
    "data"
   ],
   "outputs": [
    {
     "output_type": "execute_result",
     "data": {
      "text/plain": [
       "               Tipo do Ato                                   DODF  \\\n",
       "0    Abertura de Licitação  2021\\01_Janeiro\\DODF 003 06-01-2021 1   \n",
       "1    Abertura de Licitação  2021\\01_Janeiro\\DODF 005 08-01-2021 1   \n",
       "2    Abertura de Licitação  2021\\01_Janeiro\\DODF 008 13-01-2021 1   \n",
       "3    Abertura de Licitação  2021\\01_Janeiro\\DODF 009 14-01-2021 1   \n",
       "4    Abertura de Licitação  2021\\01_Janeiro\\DODF 014 21-01-2021 1   \n",
       "..                     ...                                    ...   \n",
       "116  Abertura de Licitação    2021\\07_Julho\\DODF 126 07-07-2021 1   \n",
       "117  Abertura de Licitação    2021\\07_Julho\\DODF 127 08-07-2021 1   \n",
       "118  Abertura de Licitação    2021\\07_Julho\\DODF 131 14-07-2021 1   \n",
       "119  Abertura de Licitação    2021\\07_Julho\\DODF 133 16-07-2021 1   \n",
       "120  Abertura de Licitação    2021\\07_Julho\\DODF 133 16-07-2021 1   \n",
       "\n",
       "    Data Ato/DODF         Processo GDF/SEI  \\\n",
       "0      06-01-2021   00050-00011038/2020-83   \n",
       "1      08-01-2021   00050-00032913/2020-61   \n",
       "2      13-01-2021   00050-00005354/2020-16   \n",
       "3      14-01-2021                      NaN   \n",
       "4      21-01-2021   04026-00022953/2020-25   \n",
       "..            ...                      ...   \n",
       "116    07-07-2021                      NaN   \n",
       "117    08-07-2021   00050-00032720/2020-18   \n",
       "118    14-07-2021   00111-00000528/2021-18   \n",
       "119    16-07-2021                      NaN   \n",
       "120    16-07-2021   00072-00000516/2021-80   \n",
       "\n",
       "                                                 Texto  \n",
       "0    \\nProcesso: 00050-00011038/2020-83. TIPO: Meno...  \n",
       "1    \\nProcesso: 00050-00032913/2020-61. TIPO: Meno...  \n",
       "2    \\nProcesso: 00050-00005354/2020-16. TIPO: Meno...  \n",
       "3     \\nHENRIQUE SANJIRO YUZUKI FARIAS\\n<END_OF_BLOCK>  \n",
       "4    \\nProcesso: 04026-00022953/2020-25. TIPO: Meno...  \n",
       "..                                                 ...  \n",
       "116  \\nprocessada no dia 22/07/2021 as 10:00 horas ...  \n",
       "117  \\nProcesso: 00050-00032720/2020-18 TIPO: Menor...  \n",
       "118  \\nProcesso: 00111-00000528/2021-18\\n<END_OF_BL...  \n",
       "119  \\nCom Participacao Exclusiva das ME/MEI/EPP\\n<...  \n",
       "120  \\nProcesso: 00072-00000516/2021-80. Tipo: Meno...  \n",
       "\n",
       "[121 rows x 5 columns]"
      ],
      "text/html": [
       "<div>\n",
       "<style scoped>\n",
       "    .dataframe tbody tr th:only-of-type {\n",
       "        vertical-align: middle;\n",
       "    }\n",
       "\n",
       "    .dataframe tbody tr th {\n",
       "        vertical-align: top;\n",
       "    }\n",
       "\n",
       "    .dataframe thead th {\n",
       "        text-align: right;\n",
       "    }\n",
       "</style>\n",
       "<table border=\"1\" class=\"dataframe\">\n",
       "  <thead>\n",
       "    <tr style=\"text-align: right;\">\n",
       "      <th></th>\n",
       "      <th>Tipo do Ato</th>\n",
       "      <th>DODF</th>\n",
       "      <th>Data Ato/DODF</th>\n",
       "      <th>Processo GDF/SEI</th>\n",
       "      <th>Texto</th>\n",
       "    </tr>\n",
       "  </thead>\n",
       "  <tbody>\n",
       "    <tr>\n",
       "      <th>0</th>\n",
       "      <td>Abertura de Licitação</td>\n",
       "      <td>2021\\01_Janeiro\\DODF 003 06-01-2021 1</td>\n",
       "      <td>06-01-2021</td>\n",
       "      <td>00050-00011038/2020-83</td>\n",
       "      <td>\\nProcesso: 00050-00011038/2020-83. TIPO: Meno...</td>\n",
       "    </tr>\n",
       "    <tr>\n",
       "      <th>1</th>\n",
       "      <td>Abertura de Licitação</td>\n",
       "      <td>2021\\01_Janeiro\\DODF 005 08-01-2021 1</td>\n",
       "      <td>08-01-2021</td>\n",
       "      <td>00050-00032913/2020-61</td>\n",
       "      <td>\\nProcesso: 00050-00032913/2020-61. TIPO: Meno...</td>\n",
       "    </tr>\n",
       "    <tr>\n",
       "      <th>2</th>\n",
       "      <td>Abertura de Licitação</td>\n",
       "      <td>2021\\01_Janeiro\\DODF 008 13-01-2021 1</td>\n",
       "      <td>13-01-2021</td>\n",
       "      <td>00050-00005354/2020-16</td>\n",
       "      <td>\\nProcesso: 00050-00005354/2020-16. TIPO: Meno...</td>\n",
       "    </tr>\n",
       "    <tr>\n",
       "      <th>3</th>\n",
       "      <td>Abertura de Licitação</td>\n",
       "      <td>2021\\01_Janeiro\\DODF 009 14-01-2021 1</td>\n",
       "      <td>14-01-2021</td>\n",
       "      <td>NaN</td>\n",
       "      <td>\\nHENRIQUE SANJIRO YUZUKI FARIAS\\n&lt;END_OF_BLOCK&gt;</td>\n",
       "    </tr>\n",
       "    <tr>\n",
       "      <th>4</th>\n",
       "      <td>Abertura de Licitação</td>\n",
       "      <td>2021\\01_Janeiro\\DODF 014 21-01-2021 1</td>\n",
       "      <td>21-01-2021</td>\n",
       "      <td>04026-00022953/2020-25</td>\n",
       "      <td>\\nProcesso: 04026-00022953/2020-25. TIPO: Meno...</td>\n",
       "    </tr>\n",
       "    <tr>\n",
       "      <th>...</th>\n",
       "      <td>...</td>\n",
       "      <td>...</td>\n",
       "      <td>...</td>\n",
       "      <td>...</td>\n",
       "      <td>...</td>\n",
       "    </tr>\n",
       "    <tr>\n",
       "      <th>116</th>\n",
       "      <td>Abertura de Licitação</td>\n",
       "      <td>2021\\07_Julho\\DODF 126 07-07-2021 1</td>\n",
       "      <td>07-07-2021</td>\n",
       "      <td>NaN</td>\n",
       "      <td>\\nprocessada no dia 22/07/2021 as 10:00 horas ...</td>\n",
       "    </tr>\n",
       "    <tr>\n",
       "      <th>117</th>\n",
       "      <td>Abertura de Licitação</td>\n",
       "      <td>2021\\07_Julho\\DODF 127 08-07-2021 1</td>\n",
       "      <td>08-07-2021</td>\n",
       "      <td>00050-00032720/2020-18</td>\n",
       "      <td>\\nProcesso: 00050-00032720/2020-18 TIPO: Menor...</td>\n",
       "    </tr>\n",
       "    <tr>\n",
       "      <th>118</th>\n",
       "      <td>Abertura de Licitação</td>\n",
       "      <td>2021\\07_Julho\\DODF 131 14-07-2021 1</td>\n",
       "      <td>14-07-2021</td>\n",
       "      <td>00111-00000528/2021-18</td>\n",
       "      <td>\\nProcesso: 00111-00000528/2021-18\\n&lt;END_OF_BL...</td>\n",
       "    </tr>\n",
       "    <tr>\n",
       "      <th>119</th>\n",
       "      <td>Abertura de Licitação</td>\n",
       "      <td>2021\\07_Julho\\DODF 133 16-07-2021 1</td>\n",
       "      <td>16-07-2021</td>\n",
       "      <td>NaN</td>\n",
       "      <td>\\nCom Participacao Exclusiva das ME/MEI/EPP\\n&lt;...</td>\n",
       "    </tr>\n",
       "    <tr>\n",
       "      <th>120</th>\n",
       "      <td>Abertura de Licitação</td>\n",
       "      <td>2021\\07_Julho\\DODF 133 16-07-2021 1</td>\n",
       "      <td>16-07-2021</td>\n",
       "      <td>00072-00000516/2021-80</td>\n",
       "      <td>\\nProcesso: 00072-00000516/2021-80. Tipo: Meno...</td>\n",
       "    </tr>\n",
       "  </tbody>\n",
       "</table>\n",
       "<p>121 rows × 5 columns</p>\n",
       "</div>"
      ]
     },
     "metadata": {},
     "execution_count": 9
    }
   ],
   "metadata": {}
  },
  {
   "cell_type": "code",
   "execution_count": 10,
   "source": [
    "data['Texto'][0]"
   ],
   "outputs": [
    {
     "output_type": "execute_result",
     "data": {
      "text/plain": [
       "'\\nProcesso: 00050-00011038/2020-83. TIPO: Menor Preco. MODO DE DISPUTA: Aberto.\\nOBJETO: Aquisicao de bens de imagem, iluminacao e sonorizacao, visando atender\\ndemanda da Secretaria de Estado de Seguranca Publica do Distrito Federal. VALOR\\nESTIMADO: Sigiloso. PRAZOS: De entrega: 30 (trinta) dias corridos contados do\\nrecebimento da nota de empenho ou da assinatura do contrato. Do Contrato: 90 (noventa)\\ndias a partir da data da assinatura. DATA DA SESSAO PUBLICA: 18/01/2021 as 09:00\\nhoras no www.gov.br/compras. UASG 450107. Edital tambem esta disponivel no\\nhttp://www.ssp.df.gov.br/licitacoes/.\\n<END_OF_BLOCK>'"
      ]
     },
     "metadata": {},
     "execution_count": 10
    }
   ],
   "metadata": {}
  },
  {
   "cell_type": "code",
   "execution_count": 11,
   "source": [
    "data.isnull().sum()"
   ],
   "outputs": [
    {
     "output_type": "execute_result",
     "data": {
      "text/plain": [
       "Tipo do Ato          0\n",
       "DODF                 0\n",
       "Data Ato/DODF        0\n",
       "Processo GDF/SEI    40\n",
       "Texto                0\n",
       "dtype: int64"
      ]
     },
     "metadata": {},
     "execution_count": 11
    }
   ],
   "metadata": {}
  },
  {
   "cell_type": "code",
   "execution_count": 12,
   "source": [
    "# 12 - EXTRATO(?:S)?\\s+D[EO]\\s+CONTRATO                                                      - 10031\r\n",
    "# 6  - AVISO(?:S)?\\s+D[EO]\\s+LICITACAO                                                       - 9582\r\n",
    "# 4  - AVISO(?:S)?\\s+D[EO]\\s+RESULTADO\\s+D[EO]\\s+JULGAMENTO|AVISO(?:S)?\\s+D[EO]\\s+JULGAMENTO - 3314\r\n",
    "# 5  - AVISO(?:S)?\\s+D[EO]\\s+DECLARACAO\\s+D[EO]\\s+VENCEDOR|AVISO(?:S)?\\s+D[EO]\\s+RESULTADO   - 3009\r\n",
    "# 3  - AVISO(?:S)?\\s+D[EO]\\s+HOMOLOGACAO\\s+E\\s+CONVOCACAO|AVISO(?:S)?\\s+D[EO]\\s+CONVOCACAO   - 1902\r\n",
    "# 1  - AVISO(?:S)?\\s+D[EO]\\s+ABERTURA\\s+D[EO]\\s+LICITACAO                                    - 769\r\n"
   ],
   "outputs": [],
   "metadata": {}
  },
  {
   "cell_type": "code",
   "execution_count": 13,
   "source": [
    "texto = '2021/01_Janeiro/DODF 001 04-01-2021 1.txt'\r\n",
    "\r\n",
    "print(texto[:-4])"
   ],
   "outputs": [
    {
     "output_type": "stream",
     "name": "stdout",
     "text": [
      "2021/01_Janeiro/DODF 001 04-01-2021 1\n"
     ]
    }
   ],
   "metadata": {}
  },
  {
   "cell_type": "code",
   "execution_count": null,
   "source": [],
   "outputs": [],
   "metadata": {}
  }
 ],
 "metadata": {
  "orig_nbformat": 4,
  "language_info": {
   "name": "python",
   "version": "3.6.8",
   "mimetype": "text/x-python",
   "codemirror_mode": {
    "name": "ipython",
    "version": 3
   },
   "pygments_lexer": "ipython3",
   "nbconvert_exporter": "python",
   "file_extension": ".py"
  },
  "kernelspec": {
   "name": "python3",
   "display_name": "Python 3.6.8 64-bit"
  },
  "interpreter": {
   "hash": "6a5ed2ccc9d2ba59c3542bbda7f71bcfb6eae0ef46ae44aa32b9fd054184bad6"
  }
 },
 "nbformat": 4,
 "nbformat_minor": 2
}