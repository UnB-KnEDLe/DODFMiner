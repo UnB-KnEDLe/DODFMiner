{
 "cells": [
  {
   "cell_type": "code",
   "execution_count": 244,
   "metadata": {},
   "outputs": [],
   "source": [
    "%load_ext autoreload\n",
    "%autoreload 2"
   ]
  },
  {
   "cell_type": "code",
   "execution_count": 354,
   "metadata": {},
   "outputs": [],
   "source": [
    "import re\n",
    "from collections import namedtuple\n",
    "from typing import List, Dict, Union, NamedTuple\n",
    "\n",
    "import fitz\n",
    "from prextract.dodf_hierarchy import is_title_subtitle\n",
    "from prextract.dodf_hierarchy import are_title_subtitle\n",
    "from prextract.dodf_hierarchy import drop_header_footer\n"
   ]
  },
  {
   "cell_type": "code",
   "execution_count": 412,
   "metadata": {},
   "outputs": [],
   "source": [
    "PATH='2_jan_2019.pdf'\n",
    "doc = fitz.open(PATH)\n",
    "pnum = 1\n",
    "\n",
    "p0 = doc[pnum]\n",
    "p_width = p0.MediaBox[2]\n",
    "\n",
    "\n",
    "class TextBlockTrans(NamedTuple):\n",
    "    x0: float\n",
    "    y0: float\n",
    "    x1: float\n",
    "    y1: float\n",
    "    text: str\n",
    "    block_no: int\n",
    "    page: int\n",
    "    pwidth: float = None\n",
    "    def __repr__(self):\n",
    "        ret = []\n",
    "        ret.append('TextBlockTrans')\n",
    "        ret.append('\\tbbox: ({}, {}, {}, {})'.format(*self[:4]))\n",
    "        ret.append('\\ttext: {}'.format(self.text))\n",
    "        ret.append('\\tblock_no: {}'.format(self[5]))\n",
    "        ret.append('\\tpage, pwidth: {}'.format(self[-2:]))\n",
    "        return '\\n'.join(ret)\n",
    "    \n",
    "\n",
    "TextBlockPaged = namedtuple('TextBlockTrans',\n",
    "    'x0 y0 x1 y1 text block_no page',\n",
    "    defaults=7*(None,)\n",
    ")"
   ]
  },
  {
   "cell_type": "code",
   "execution_count": 413,
   "metadata": {},
   "outputs": [
    {
     "data": {
      "text/plain": [
       "[(56.69197463989258,\n",
       "  368.1159362792969,\n",
       "  404.076171875,\n",
       "  606.9794921875,\n",
       "  'AVISO DE HOMOLOGAÇÃO E CONVOCAÇÃO DE RESULTADO\\nDO EDITAL 01/2018 - CONDOMÍNIO SOLAR DE BRASÍLIA.\\nO Presidente da COVED, acolhendo o parecer inserido no processo abaixo, declara habilitado para a\\nvenda à VISTA o item a seguir: item 817, QD 06 RUA 04 LT 01, ao interessado (a) LUZIA\\nGADELHA DA SILVA GONET, pelo valor de R$ 195.299,66 (cento e noventa e cinco mil, duzentos\\ne noventa e nove reais e sessenta e seis centavos), conforme proposta de compra anexada ao processo\\nSEI nº 00111-00004631/2018-23. O presidente da COVED, acolhendo os pareceres inseridos nos\\nprocessos abaixo, declara habilitados para a venda a PRAZO os itens a seguir: item 285, QD 02 RUA\\n07 LT 27, ao interessado (a) MARISTELA DE ARAUJO CAVALCANTE, pelo valor de R$\\n186.496,67 (cento e oitenta e seis mil, quatrocentos e noventa e seis reais e sessenta e sete centavos),\\nconforme proposta de compra anexada ao processo SEI nº 00111-00003479/2018-61; item 347, QD 03\\nRUA 02 LT 19, ao interessado (a) MARIA NEUZA BARBOSA, pelo valor de R$ 188.851,61 (cento\\ne oitenta e oito mil, oitocentos e cinquenta e um reais e sessenta e um centavos), conforme proposta\\nde compra anexada ao processo SEI nº 00111-00008077/2018-53 ; item 422 , QD 03 RUA 05 LT 20\\n, ao interessado(a) GIDALTO DIAS DE AGUIAR , pelo valor de R$ 186.664,88 ( cento e oitenta\\ne seis mil, seiscentos e sessenta e quatro reais e oitenta e oito centavos ), conforme proposta de\\ncompra anexada ao processo SEI nº 00111-00003686/2018-16 ; item 629 , QD 04 RUA 04 LT 14 ,\\nao interessado(a) MARIA DENIS BIASIBETTI , pelo valor de R$ 187.001,30 ( cento e oitenta e sete\\nmil e um reais e trinta centavos ), conforme proposta de compra anexada ao processo SEI nº 00111-\\n00008085/2018-08 ; item 816 , QD 06 RUA 03 LT 26 , ao interessado(a) MARIA ANGÉLICA\\nVALADARES CARNEIRO , pelo valor de R$ 235.165,43 ( duzentos e trinta e cinco mil, cento e\\nsessenta e cinco reais e quarenta e três centavos ), conforme proposta de compra anexada ao processo\\nSEI nº 00111-00005418/2018-39 ; item 1100 , QD 06 RUA 13 LT 20 , ao interessado(a) ANDRÉA\\nVISCONTE MARTINS , pelo valor de R$ 190.757,99 ( cento e noventa mil, setecentos e cinquenta\\ne sete reais e noventa e nove centavos ), conforme proposta de compra anexada ao processo SEI nº\\n00111-00005215/2018-42. Para informações e esclarecimentos quanto a prazos e demais obrigações\\nobedeça-se aos termos estabelecidos no Edital de Convocação para Venda Direta nº 001/2018.\\nBrasília/DF, 28 de dezembro de 2018\\nRENATO CORREIA LEAL\\nPresidente COVED',\n",
       "  4,\n",
       "  0),\n",
       " (56.691986083984375,\n",
       "  614.0555419921875,\n",
       "  404.0885925292969,\n",
       "  718.0698852539062,\n",
       "  'AVISO DE HOMOLOGAÇÃO E CONVOCAÇÃO DE RESULTADO\\nDO EDITAL 01/2017 - VICENTE PIRES- ETAPA-3.\\nO Presidente da COVED, acolhendo os pareceres inseridos nos processos abaixo, declara habilitados\\npara a venda à VISTA os itens a seguir: item 18, SHVP TRECHO 03 QD EPTG 01 CONJ 02 LT\\n19, ao interessado (a) OLGA RODRIGUES DE SOUZA BARBOSA, pelo valor de R$ 135.091,00\\n(cento e trinta e cinco mil e noventa e um reais), conforme proposta de compra anexada ao processo\\nSEI nº 00111-00017876/2017-30; item 372, SHVP TRECHO 03 QD 01 CONJ 07 LT 06, ao\\ninteressado (a) VILMA DOMINGUES DE SOUZA , pelo valor de R$ 37.371,32 ( trinta e sete mil,\\ntrezentos e setenta e um reais e trinta e dois centavos ), conforme proposta de compra anexada ao\\nprocesso SEI nº 00111-00016512/2017-32 ; item 377 , SHVP TRECHO 03 QD 01 CONJ 07 LT 15\\n, ao interessado(a) MARIA NEIDE DE SOUZA , pelo valor de R$ 34.793,72 ( trinta e quatro mil,\\nsetecentos e noventa e três reais e setenta e dois centavos ), conforme proposta de compra anexada\\nao processo SEI nº 00111-00016502/2017-05 ; item 1537 , SHVP TRECHO 03 QD 06 CONJ 14 LT',\n",
       "  5,\n",
       "  0)]"
      ]
     },
     "execution_count": 413,
     "metadata": {},
     "output_type": "execute_result"
    }
   ],
   "source": [
    "text_blocks = p0.getTextBlocks()\n",
    "extract = p0.getTextPage().extractDICT()['blocks']\n",
    "text_blocks[4:6]"
   ]
  },
  {
   "cell_type": "code",
   "execution_count": 414,
   "metadata": {},
   "outputs": [],
   "source": [
    "def textBlock_topage(lis, page_width, pnum):\n",
    "    \"\"\"Given a text_block list (of tuples), return one with \n",
    "    two more values at the end, indicating `page number` and\n",
    "    `page width`.\n",
    "    \"\"\"\n",
    "    return [TextBlockTrans(*i[:-1], pnum, page_width) for i in lis]\n",
    "\n",
    "def text_blocks_transform(text_blocks: List[TextBlockTrans],\n",
    "                          keep_page_width=True):\n",
    "    lis = []\n",
    "    for idx, tb in enumerate(text_blocks):\n",
    "        p_num = tb[-2]\n",
    "        p_num = tb.page\n",
    "        \n",
    "        \n",
    "        p_width = tb[-1]\n",
    "        p_width = tb.pwidth\n",
    "        \n",
    "        \n",
    "        p_num *= 2\n",
    "        x0, y0, x1, y1 = tb[:4]\n",
    "        x0 = tb.x0\n",
    "        \n",
    "        p_num += int(x0 >( p_width / 2))\n",
    "        if keep_page_width:            \n",
    "            lis.append( TextBlockTrans( *(tb[:-2]), p_num, p_width ) )\n",
    "        else:\n",
    "            lis.append( TextBlockPaged( *(tb[:-2]), p_num, ) )\n",
    "    return lis\n",
    "\n",
    "def trans_key(text_block_paged: TextBlockPaged):\n",
    "    _ = text_block_paged\n",
    "    return (_.page, int(_.y0), _.x0)\n",
    "\n",
    "def sort_transformed(text_blocks_transformed: \n",
    "    List[Union[TextBlockTrans, TextBlockPaged]]):\n",
    "    return sorted(text_blocks_transformed, key=trans_key)"
   ]
  },
  {
   "cell_type": "code",
   "execution_count": 415,
   "metadata": {},
   "outputs": [
    {
     "data": {
      "text/plain": [
       "[TextBlockTrans\n",
       " \tbbox: (56.69197463989258, 368.1159362792969, 404.076171875, 606.9794921875)\n",
       " \ttext: AVISO DE HOMOLOGAÇÃO E CONVOCAÇÃO DE RESULTADO\n",
       " DO EDITAL 01/2018 - CONDOMÍNIO SOLAR DE BRASÍLIA.\n",
       " O Presidente da COVED, acolhendo o parecer inserido no processo abaixo, declara habilitado para a\n",
       " venda à VISTA o item a seguir: item 817, QD 06 RUA 04 LT 01, ao interessado (a) LUZIA\n",
       " GADELHA DA SILVA GONET, pelo valor de R$ 195.299,66 (cento e noventa e cinco mil, duzentos\n",
       " e noventa e nove reais e sessenta e seis centavos), conforme proposta de compra anexada ao processo\n",
       " SEI nº 00111-00004631/2018-23. O presidente da COVED, acolhendo os pareceres inseridos nos\n",
       " processos abaixo, declara habilitados para a venda a PRAZO os itens a seguir: item 285, QD 02 RUA\n",
       " 07 LT 27, ao interessado (a) MARISTELA DE ARAUJO CAVALCANTE, pelo valor de R$\n",
       " 186.496,67 (cento e oitenta e seis mil, quatrocentos e noventa e seis reais e sessenta e sete centavos),\n",
       " conforme proposta de compra anexada ao processo SEI nº 00111-00003479/2018-61; item 347, QD 03\n",
       " RUA 02 LT 19, ao interessado (a) MARIA NEUZA BARBOSA, pelo valor de R$ 188.851,61 (cento\n",
       " e oitenta e oito mil, oitocentos e cinquenta e um reais e sessenta e um centavos), conforme proposta\n",
       " de compra anexada ao processo SEI nº 00111-00008077/2018-53 ; item 422 , QD 03 RUA 05 LT 20\n",
       " , ao interessado(a) GIDALTO DIAS DE AGUIAR , pelo valor de R$ 186.664,88 ( cento e oitenta\n",
       " e seis mil, seiscentos e sessenta e quatro reais e oitenta e oito centavos ), conforme proposta de\n",
       " compra anexada ao processo SEI nº 00111-00003686/2018-16 ; item 629 , QD 04 RUA 04 LT 14 ,\n",
       " ao interessado(a) MARIA DENIS BIASIBETTI , pelo valor de R$ 187.001,30 ( cento e oitenta e sete\n",
       " mil e um reais e trinta centavos ), conforme proposta de compra anexada ao processo SEI nº 00111-\n",
       " 00008085/2018-08 ; item 816 , QD 06 RUA 03 LT 26 , ao interessado(a) MARIA ANGÉLICA\n",
       " VALADARES CARNEIRO , pelo valor de R$ 235.165,43 ( duzentos e trinta e cinco mil, cento e\n",
       " sessenta e cinco reais e quarenta e três centavos ), conforme proposta de compra anexada ao processo\n",
       " SEI nº 00111-00005418/2018-39 ; item 1100 , QD 06 RUA 13 LT 20 , ao interessado(a) ANDRÉA\n",
       " VISCONTE MARTINS , pelo valor de R$ 190.757,99 ( cento e noventa mil, setecentos e cinquenta\n",
       " e sete reais e noventa e nove centavos ), conforme proposta de compra anexada ao processo SEI nº\n",
       " 00111-00005215/2018-42. Para informações e esclarecimentos quanto a prazos e demais obrigações\n",
       " obedeça-se aos termos estabelecidos no Edital de Convocação para Venda Direta nº 001/2018.\n",
       " Brasília/DF, 28 de dezembro de 2018\n",
       " RENATO CORREIA LEAL\n",
       " Presidente COVED\n",
       " \tblock_no: 4\n",
       " \tpage, pwidth: (1, 814.9609985351562),\n",
       " TextBlockTrans\n",
       " \tbbox: (56.691986083984375, 614.0555419921875, 404.0885925292969, 718.0698852539062)\n",
       " \ttext: AVISO DE HOMOLOGAÇÃO E CONVOCAÇÃO DE RESULTADO\n",
       " DO EDITAL 01/2017 - VICENTE PIRES- ETAPA-3.\n",
       " O Presidente da COVED, acolhendo os pareceres inseridos nos processos abaixo, declara habilitados\n",
       " para a venda à VISTA os itens a seguir: item 18, SHVP TRECHO 03 QD EPTG 01 CONJ 02 LT\n",
       " 19, ao interessado (a) OLGA RODRIGUES DE SOUZA BARBOSA, pelo valor de R$ 135.091,00\n",
       " (cento e trinta e cinco mil e noventa e um reais), conforme proposta de compra anexada ao processo\n",
       " SEI nº 00111-00017876/2017-30; item 372, SHVP TRECHO 03 QD 01 CONJ 07 LT 06, ao\n",
       " interessado (a) VILMA DOMINGUES DE SOUZA , pelo valor de R$ 37.371,32 ( trinta e sete mil,\n",
       " trezentos e setenta e um reais e trinta e dois centavos ), conforme proposta de compra anexada ao\n",
       " processo SEI nº 00111-00016512/2017-32 ; item 377 , SHVP TRECHO 03 QD 01 CONJ 07 LT 15\n",
       " , ao interessado(a) MARIA NEIDE DE SOUZA , pelo valor de R$ 34.793,72 ( trinta e quatro mil,\n",
       " setecentos e noventa e três reais e setenta e dois centavos ), conforme proposta de compra anexada\n",
       " ao processo SEI nº 00111-00016502/2017-05 ; item 1537 , SHVP TRECHO 03 QD 06 CONJ 14 LT\n",
       " \tblock_no: 5\n",
       " \tpage, pwidth: (1, 814.9609985351562)]"
      ]
     },
     "execution_count": 415,
     "metadata": {},
     "output_type": "execute_result"
    }
   ],
   "source": [
    "tb_paged = textBlock_topage(text_blocks, p_width, pnum)\n",
    "tb_paged[4:6]"
   ]
  },
  {
   "cell_type": "code",
   "execution_count": 416,
   "metadata": {},
   "outputs": [
    {
     "name": "stdout",
     "output_type": "stream",
     "text": [
      "TextBlockTrans\n",
      "\tbbox: (56.66706848144531, 55.11705017089844, 765.406005859375, 70.56302642822266)\n",
      "\ttext: PÁGINA 2\n",
      "Nº 1, quarta-feira, 2 de janeiro de 2019\n",
      "Diário Oficial do Distrito Federal\n",
      "\tblock_no: 0\n",
      "\tpage, pwidth: (1, 814.9609985351562)\n"
     ]
    },
    {
     "data": {
      "text/plain": [
       "[TextBlockTrans(x0=56.691986083984375, y0=614.0555419921875, x1=404.0885925292969, y1=718.0698852539062, text='AVISO DE HOMOLOGAÇÃO E CONVOCAÇÃO DE RESULTADO\\nDO EDITAL 01/2017 - VICENTE PIRES- ETAPA-3.\\nO Presidente da COVED, acolhendo os pareceres inseridos nos processos abaixo, declara habilitados\\npara a venda à VISTA os itens a seguir: item 18, SHVP TRECHO 03 QD EPTG 01 CONJ 02 LT\\n19, ao interessado (a) OLGA RODRIGUES DE SOUZA BARBOSA, pelo valor de R$ 135.091,00\\n(cento e trinta e cinco mil e noventa e um reais), conforme proposta de compra anexada ao processo\\nSEI nº 00111-00017876/2017-30; item 372, SHVP TRECHO 03 QD 01 CONJ 07 LT 06, ao\\ninteressado (a) VILMA DOMINGUES DE SOUZA , pelo valor de R$ 37.371,32 ( trinta e sete mil,\\ntrezentos e setenta e um reais e trinta e dois centavos ), conforme proposta de compra anexada ao\\nprocesso SEI nº 00111-00016512/2017-32 ; item 377 , SHVP TRECHO 03 QD 01 CONJ 07 LT 15\\n, ao interessado(a) MARIA NEIDE DE SOUZA , pelo valor de R$ 34.793,72 ( trinta e quatro mil,\\nsetecentos e noventa e três reais e setenta e dois centavos ), conforme proposta de compra anexada\\nao processo SEI nº 00111-00016502/2017-05 ; item 1537 , SHVP TRECHO 03 QD 06 CONJ 14 LT', block_no=5, page=2),\n",
       " TextBlockTrans(x0=418.1086120605469, y0=80.32613372802734, x1=765.5665283203125, y1=503.1172180175781, text='20 , ao interessado(a) KEYLLE FERREIRA FRAUSINO , pelo valor de R$ 162.642,68 ( cento e\\nsessenta e dois mil, seiscentos e quarenta e dois reais e sessenta e oito centavos ), conforme proposta\\nde compra anexada ao processo SEI nº 00111-00019595/2017-11 ; item 2128 , SHVP TRECHO 03\\nQD 08 CONJ 03 LT 03 , ao interessado(a) ALYSSON SHOZO RESENDE TAKAKI , pelo valor de\\nR$ 67.099,64 ( sessenta e sete mil e noventa e nove reais e sessenta e quatro centavos ), conforme\\nproposta de compra anexada ao processo SEI nº 00111-00016484/2017-53 ; item 2141 , SHVP\\nTRECHO 03 QD 08 CONJ 03 LT 22 , ao interessado(a) BENEDITO PERINETTI ALVES , pelo valor\\nde R$ 22.192,12 ( vinte e dois mil, cento e noventa e dois reais e doze centavos ), conforme proposta\\nde compra anexada ao processo SEI nº 00111-00016429/2017-63 ; item 2766 , SHVP TRECHO 03\\nQD 10 CONJ 11 LT 09 , ao interessado(a) Rafael de Carvalho Xavier , pelo valor de R$ 165.334,84\\n( cento e sessenta e cinco mil, trezentos e trinta e quatro reais e oitenta e quatro centavos ), conforme\\nproposta de compra anexada ao processo SEI nº 00111-00016009/2017-87 ; item 2891 , SHVP\\nTRECHO 03 QD 10 CONJ 17 LT 38 , ao interessado(a) ANIELE DE MEDEIROS SANTOS , pelo\\nvalor de R$ 22.306,68 ( vinte e dois mil, trezentos e seis reais e sessenta e oito centavos ), conforme\\nproposta de compra anexada ao processo SEI nº 00111-00016758/2017-12. O presidente da COVED,\\nacolhendo os pareceres inseridos nos processos abaixo, declara habilitados para a venda à PRAZO os\\nitens a seguir: item 127 , SHVP TRECHO 03 QD EPTG 03 CONJ 01 LT 47 , ao interessado(a)\\nSONIA MARIA DE CAMPOS , pelo valor de R$ 74.316,92 ( setenta e quatro mil, trezentos e\\ndezesseis reais e noventa e dois centavos ), conforme proposta de compra anexada ao processo SEI\\nnº 00111-00016555/2017-18 ; item 456 , SHVP TRECHO 03 QD 01 CONJ 11 LT 16 , ao\\ninteressado(a) MARCOS ANTONIO TAVARES , pelo valor de R$ 164.647,48 ( cento e sessenta e\\nquatro mil, seiscentos e quarenta e sete reais e quarenta e oito centavos ), conforme proposta de\\ncompra anexada ao processo SEI nº 00111-00016893/2017-50 ; item 605 , SHVP TRECHO 03 QD\\n02 CONJ 06 LT 05 , ao interessado(a) JÚLIA BOTELHO DE OLIVEIRA SEVERO LOPES DA\\nFONSECA , pelo valor de R$ 163.158,20 ( cento e sessenta e três mil, cento e cinquenta e oito reais\\ne vinte centavos ), conforme proposta de compra anexada ao processo SEI nº 00111 - 0 0 0 1 7 6 4 8 / 2 0 1 7 -\\n60 ; item 2211 , SHVP TRECHO 03 QD 08 CONJ 09 LT 01 , ao interessado(a) GERALDA DA\\nCUNHA DE MORAES PINHEIRO , pelo valor de R$ 149.239,16 ( cento e quarenta e nove mil,\\nduzentos e trinta e nove reais e dezesseis centavos ), conforme proposta de compra anexada ao\\nprocesso SEI nº 00111-00017296/2017-42 ; item 2399 , SHVP TRECHO 03 QD 08 CONJ 27 LT 10\\n, ao interessado(a) JOSÉ LUÍS PAIXÃO COSTA , pelo valor de R$ 72.025,72 ( setenta e dois mil\\ne vinte e cinco reais e setenta e dois centavos ), conforme proposta de compra anexada ao processo\\nSEI nº 00111-00017934/2017-25 ; item 2839 , SHVP TRECHO 03 QD 10 CONJ 16 LT 04 , ao\\ninteressado(a) BERNADETE DE LOURDES MEDEIROS BARBOSA , pelo valor de R$ 65.610,36 (\\nsessenta e cinco mil, seiscentos e dez reais e trinta e seis centavos ), conforme proposta de compra\\nanexada ao processo SEI nº 00111-00017842/2017-45. Para informações e esclarecimentos quanto a\\nprazos e demais obrigações obedeça-se aos termos estabelecidos no Edital de Convocação para Venda\\nDireta nº 001/2017-Vicente Pires-Trecho 3.\\nBrasília/DF, 28 de dezembro de 2018\\nRENATO CORREIA LEAL\\nPresidente COVED', block_no=6, page=3)]"
      ]
     },
     "execution_count": 416,
     "metadata": {},
     "output_type": "execute_result"
    }
   ],
   "source": [
    "print(tb_paged[0])\n",
    "tb_trans = text_blocks_transform(tb_paged, keep_page_width=False)\n",
    "tb_trans[5:7]\n",
    "# [i.text for i in drop_header_footer(sort_transformed(\n",
    "#     tb_trans\n",
    "# ))]"
   ]
  },
  {
   "cell_type": "code",
   "execution_count": 417,
   "metadata": {},
   "outputs": [],
   "source": [
    "# tb_trans[50]._asdict()"
   ]
  },
  {
   "cell_type": "markdown",
   "metadata": {},
   "source": [
    "## VERIFICAR SE UM BLOCO É CANDIDATO A TÍTULO"
   ]
  },
  {
   "cell_type": "code",
   "execution_count": 418,
   "metadata": {},
   "outputs": [],
   "source": [
    "import re\n",
    "UPPER_REG = re.compile(r'[A-Z]')\n",
    "def is_upper(text: str):\n",
    "    return text.upper() == text"
   ]
  },
  {
   "cell_type": "code",
   "execution_count": 419,
   "metadata": {},
   "outputs": [],
   "source": [
    "def get_block_spans(block): \n",
    "    span_lis = [] \n",
    "    for line in block['lines']: \n",
    "        for span in line['spans']: \n",
    "            span_lis.append(span) \n",
    "    return span_lis\n",
    "\n",
    "titles_idx = [idx for (idx, bl) in enumerate(tb_trans)\n",
    "          if is_upper(bl.text)]\n"
   ]
  },
  {
   "cell_type": "code",
   "execution_count": 420,
   "metadata": {},
   "outputs": [],
   "source": [
    "block_spans = {}\n",
    "for i in titles_idx:\n",
    "    block_spans[i] = get_block_spans(extract[i])"
   ]
  },
  {
   "cell_type": "code",
   "execution_count": 421,
   "metadata": {},
   "outputs": [
    {
     "data": {
      "text/plain": [
       "dict_keys([2, 8, 9, 10, 11, 12, 13, 14, 15])"
      ]
     },
     "execution_count": 421,
     "metadata": {},
     "output_type": "execute_result"
    }
   ],
   "source": [
    "block_spans.keys()"
   ]
  },
  {
   "cell_type": "code",
   "execution_count": 422,
   "metadata": {},
   "outputs": [
    {
     "name": "stdout",
     "output_type": "stream",
     "text": [
      "SECRETARIA DE ESTADO DE ECONOMIA,\n",
      "\t----- 9 -----\n",
      "\n",
      "DESENVOLVIMENTO, INOVAÇÃO, CIÊNCIA E\n",
      "\t----- 10 -----\n",
      "\n",
      "TECNOLOGIA\n",
      "\t----- 11 -----\n",
      "\n",
      "SECRETARIA DE ESTADO DE ECONOMIA,\n",
      "\t----- 12 -----\n",
      "\n",
      "DESENVOLVIMENTO, INOVAÇÃO, CIÊNCIA E\n",
      "\t----- 13 -----\n",
      "\n",
      "TECNOLOGIA\n",
      "\t----- 14 -----\n",
      "\n",
      "COMPANHIA IMOBILIÁRIA DE BRASÍLIA\n",
      "\t----- 15 -----\n",
      "\n"
     ]
    }
   ],
   "source": [
    "for k, span_list in block_spans.items():\n",
    "    if all(are_title_subtitle(span_list)):\n",
    "        print('\\n'.join((sp['text'] for sp in span_list)))\n",
    "        print('\\t----- {} -----\\n'.format(k))"
   ]
  },
  {
   "cell_type": "code",
   "execution_count": 423,
   "metadata": {},
   "outputs": [],
   "source": [
    "def mount_hierarchy(page: fitz.Page):\n",
    "#     TODO : fazer para o documento inteiro\n",
    "    p_width = page.MediaBox[2]\n",
    "    pnum = 0\n",
    "    \n",
    "    text_blocks = page.getTextBlocks()\n",
    "    extract = page.getTextPage().extractDICT()['blocks']\n",
    "\n",
    "    tb_paged = textBlock_topage(text_blocks, p_width, pnum)    \n",
    "    tb_trans = text_blocks_transform(tb_paged, keep_page_width=False)\n",
    "    \n",
    "#     titles_idx = [idx for (idx, bl) in enumerate(tb_trans)\n",
    "#           if is_upper(bl.text)]\n",
    "#     block_spans = {}\n",
    "#     for i in range(len(extract)):\n",
    "#         block_spans[i] = get_block_spans(extract[i])\n",
    "#     return [i.page for i in tb_trans]\n",
    "    \n",
    "    cleaned_and_sorted = drop_header_footer(sort_transformed(tb_trans))\n",
    "#     return cleaned_and_sorted\n",
    "\n",
    "    hier = [('preambulo', [])]\n",
    "    \n",
    "    last_title = 'preambulo'\n",
    "\n",
    "    for text_block in cleaned_and_sorted:\n",
    "        spans = get_block_spans(extract[text_block.block_no])\n",
    "        if all(are_title_subtitle(spans)):\n",
    "            last_title = '\\n'.join([sp['text'] for sp in spans])\n",
    "            hier.append((last_title, []))\n",
    "        else:\n",
    "            hier[-1][1].append(text_block.text)\n",
    "    return hier\n",
    "            \n",
    "            "
   ]
  },
  {
   "cell_type": "code",
   "execution_count": 424,
   "metadata": {
    "scrolled": true
   },
   "outputs": [],
   "source": [
    "h=mount_hierarchy(p0)"
   ]
  },
  {
   "cell_type": "code",
   "execution_count": 425,
   "metadata": {
    "scrolled": true
   },
   "outputs": [
    {
     "data": {
      "text/plain": [
       "('preambulo', ['SEÇÃO III'])"
      ]
     },
     "execution_count": 425,
     "metadata": {},
     "output_type": "execute_result"
    }
   ],
   "source": [
    "h[0]"
   ]
  },
  {
   "cell_type": "code",
   "execution_count": 426,
   "metadata": {
    "collapsed": true
   },
   "outputs": [
    {
     "data": {
      "text/plain": [
       "[('preambulo', ['SEÇÃO III']),\n",
       " ('SECRETARIA DE ESTADO DE ECONOMIA,', []),\n",
       " ('SECRETARIA DE ESTADO DE ECONOMIA,', []),\n",
       " ('DESENVOLVIMENTO, INOVAÇÃO, CIÊNCIA E', []),\n",
       " ('DESENVOLVIMENTO, INOVAÇÃO, CIÊNCIA E', []),\n",
       " ('TECNOLOGIA', []),\n",
       " ('TECNOLOGIA', []),\n",
       " ('COMPANHIA IMOBILIÁRIA DE BRASÍLIA',\n",
       "  ['AGÊNCIA DE DESENVOLVIMENTO DO DISTRITO FEDERAL\\nCOMISSÃO DE VENDA DIRETA',\n",
       "   'AVISO DE HOMOLOGAÇÃO E CONVOCAÇÃO DE RESULTADO\\nDO EDITAL 01/2017 - CONDOMÍNIO JARDIM BOTÂNICO\\nO Presidente da COVED, acolhendo os pareceres inseridos nos processos abaixo, declara habilitados\\npara a venda à PRAZO os itens a seguir: item 80 - A , ESTÂNCIA JARDIM BOTÂNICO , SHJB\\nQD 03 Rua 03 LT 112 , ao interessado(a) VANIA RUAS DE MORAIS COSTA , pelo valor de R$\\n355.410,00 ( trezentos e cinquenta e cinco mil, quatrocentos e dez reais ), conforme proposta de\\ncompra anexada ao processo SEI nº 00111-00020866/2017-81 ; item 171 - A , ESTÂNCIA JARDIM\\nBOTÂNICO , SHJB QD 03 Rua 05 LT 144 , ao interessado(a) FRANCISCO DE ASSIS CORREIA\\nSERRA , pelo valor de R$ 187.730,00 ( cento e oitenta e sete mil, setecentos e trinta reais ),\\nconforme proposta de compra anexada ao processo SEI nº 00111-00019650/2017-73 ; item 68 - A ,\\nESTÂNCIA JARDIM BOTÂNICO II , SHJB QD 04 Rua 07 LT 273 , ao interessado(a) LOIANE\\nROGÉRIA AIACHE POSTIGLIONE , pelo valor de R$ 340.140,00 ( trezentos e quarenta mil, cento\\ne quarenta reais ), conforme proposta de compra anexada ao processo SEI nº 00111 - 0 0 0 2 0 7 5 8 / 2 0 1 7 -\\n17. Para informações e esclarecimentos quanto a prazos e demais obrigações obedeça-se aos termos\\nestabelecidos no Edital de Convocação para Venda Direta nº 001/2017.\\nBrasília/DF, 28 de dezembro de 2018\\nRENATO CORREIA LEAL\\nPresidente COVED',\n",
       "   'AVISO DE HOMOLOGAÇÃO E CONVOCAÇÃO DE RESULTADO\\nDO EDITAL 01/2018 - CONDOMÍNIO SOLAR DE BRASÍLIA.\\nO Presidente da COVED, acolhendo o parecer inserido no processo abaixo, declara habilitado para a\\nvenda à VISTA o item a seguir: item 817, QD 06 RUA 04 LT 01, ao interessado (a) LUZIA\\nGADELHA DA SILVA GONET, pelo valor de R$ 195.299,66 (cento e noventa e cinco mil, duzentos\\ne noventa e nove reais e sessenta e seis centavos), conforme proposta de compra anexada ao processo\\nSEI nº 00111-00004631/2018-23. O presidente da COVED, acolhendo os pareceres inseridos nos\\nprocessos abaixo, declara habilitados para a venda a PRAZO os itens a seguir: item 285, QD 02 RUA\\n07 LT 27, ao interessado (a) MARISTELA DE ARAUJO CAVALCANTE, pelo valor de R$\\n186.496,67 (cento e oitenta e seis mil, quatrocentos e noventa e seis reais e sessenta e sete centavos),\\nconforme proposta de compra anexada ao processo SEI nº 00111-00003479/2018-61; item 347, QD 03\\nRUA 02 LT 19, ao interessado (a) MARIA NEUZA BARBOSA, pelo valor de R$ 188.851,61 (cento\\ne oitenta e oito mil, oitocentos e cinquenta e um reais e sessenta e um centavos), conforme proposta\\nde compra anexada ao processo SEI nº 00111-00008077/2018-53 ; item 422 , QD 03 RUA 05 LT 20\\n, ao interessado(a) GIDALTO DIAS DE AGUIAR , pelo valor de R$ 186.664,88 ( cento e oitenta\\ne seis mil, seiscentos e sessenta e quatro reais e oitenta e oito centavos ), conforme proposta de\\ncompra anexada ao processo SEI nº 00111-00003686/2018-16 ; item 629 , QD 04 RUA 04 LT 14 ,\\nao interessado(a) MARIA DENIS BIASIBETTI , pelo valor de R$ 187.001,30 ( cento e oitenta e sete\\nmil e um reais e trinta centavos ), conforme proposta de compra anexada ao processo SEI nº 00111-\\n00008085/2018-08 ; item 816 , QD 06 RUA 03 LT 26 , ao interessado(a) MARIA ANGÉLICA\\nVALADARES CARNEIRO , pelo valor de R$ 235.165,43 ( duzentos e trinta e cinco mil, cento e\\nsessenta e cinco reais e quarenta e três centavos ), conforme proposta de compra anexada ao processo\\nSEI nº 00111-00005418/2018-39 ; item 1100 , QD 06 RUA 13 LT 20 , ao interessado(a) ANDRÉA\\nVISCONTE MARTINS , pelo valor de R$ 190.757,99 ( cento e noventa mil, setecentos e cinquenta\\ne sete reais e noventa e nove centavos ), conforme proposta de compra anexada ao processo SEI nº\\n00111-00005215/2018-42. Para informações e esclarecimentos quanto a prazos e demais obrigações\\nobedeça-se aos termos estabelecidos no Edital de Convocação para Venda Direta nº 001/2018.\\nBrasília/DF, 28 de dezembro de 2018\\nRENATO CORREIA LEAL\\nPresidente COVED',\n",
       "   'AVISO DE HOMOLOGAÇÃO E CONVOCAÇÃO DE RESULTADO\\nDO EDITAL 01/2017 - VICENTE PIRES- ETAPA-3.\\nO Presidente da COVED, acolhendo os pareceres inseridos nos processos abaixo, declara habilitados\\npara a venda à VISTA os itens a seguir: item 18, SHVP TRECHO 03 QD EPTG 01 CONJ 02 LT\\n19, ao interessado (a) OLGA RODRIGUES DE SOUZA BARBOSA, pelo valor de R$ 135.091,00\\n(cento e trinta e cinco mil e noventa e um reais), conforme proposta de compra anexada ao processo\\nSEI nº 00111-00017876/2017-30; item 372, SHVP TRECHO 03 QD 01 CONJ 07 LT 06, ao\\ninteressado (a) VILMA DOMINGUES DE SOUZA , pelo valor de R$ 37.371,32 ( trinta e sete mil,\\ntrezentos e setenta e um reais e trinta e dois centavos ), conforme proposta de compra anexada ao\\nprocesso SEI nº 00111-00016512/2017-32 ; item 377 , SHVP TRECHO 03 QD 01 CONJ 07 LT 15\\n, ao interessado(a) MARIA NEIDE DE SOUZA , pelo valor de R$ 34.793,72 ( trinta e quatro mil,\\nsetecentos e noventa e três reais e setenta e dois centavos ), conforme proposta de compra anexada\\nao processo SEI nº 00111-00016502/2017-05 ; item 1537 , SHVP TRECHO 03 QD 06 CONJ 14 LT',\n",
       "   '20 , ao interessado(a) KEYLLE FERREIRA FRAUSINO , pelo valor de R$ 162.642,68 ( cento e\\nsessenta e dois mil, seiscentos e quarenta e dois reais e sessenta e oito centavos ), conforme proposta\\nde compra anexada ao processo SEI nº 00111-00019595/2017-11 ; item 2128 , SHVP TRECHO 03\\nQD 08 CONJ 03 LT 03 , ao interessado(a) ALYSSON SHOZO RESENDE TAKAKI , pelo valor de\\nR$ 67.099,64 ( sessenta e sete mil e noventa e nove reais e sessenta e quatro centavos ), conforme\\nproposta de compra anexada ao processo SEI nº 00111-00016484/2017-53 ; item 2141 , SHVP\\nTRECHO 03 QD 08 CONJ 03 LT 22 , ao interessado(a) BENEDITO PERINETTI ALVES , pelo valor\\nde R$ 22.192,12 ( vinte e dois mil, cento e noventa e dois reais e doze centavos ), conforme proposta\\nde compra anexada ao processo SEI nº 00111-00016429/2017-63 ; item 2766 , SHVP TRECHO 03\\nQD 10 CONJ 11 LT 09 , ao interessado(a) Rafael de Carvalho Xavier , pelo valor de R$ 165.334,84\\n( cento e sessenta e cinco mil, trezentos e trinta e quatro reais e oitenta e quatro centavos ), conforme\\nproposta de compra anexada ao processo SEI nº 00111-00016009/2017-87 ; item 2891 , SHVP\\nTRECHO 03 QD 10 CONJ 17 LT 38 , ao interessado(a) ANIELE DE MEDEIROS SANTOS , pelo\\nvalor de R$ 22.306,68 ( vinte e dois mil, trezentos e seis reais e sessenta e oito centavos ), conforme\\nproposta de compra anexada ao processo SEI nº 00111-00016758/2017-12. O presidente da COVED,\\nacolhendo os pareceres inseridos nos processos abaixo, declara habilitados para a venda à PRAZO os\\nitens a seguir: item 127 , SHVP TRECHO 03 QD EPTG 03 CONJ 01 LT 47 , ao interessado(a)\\nSONIA MARIA DE CAMPOS , pelo valor de R$ 74.316,92 ( setenta e quatro mil, trezentos e\\ndezesseis reais e noventa e dois centavos ), conforme proposta de compra anexada ao processo SEI\\nnº 00111-00016555/2017-18 ; item 456 , SHVP TRECHO 03 QD 01 CONJ 11 LT 16 , ao\\ninteressado(a) MARCOS ANTONIO TAVARES , pelo valor de R$ 164.647,48 ( cento e sessenta e\\nquatro mil, seiscentos e quarenta e sete reais e quarenta e oito centavos ), conforme proposta de\\ncompra anexada ao processo SEI nº 00111-00016893/2017-50 ; item 605 , SHVP TRECHO 03 QD\\n02 CONJ 06 LT 05 , ao interessado(a) JÚLIA BOTELHO DE OLIVEIRA SEVERO LOPES DA\\nFONSECA , pelo valor de R$ 163.158,20 ( cento e sessenta e três mil, cento e cinquenta e oito reais\\ne vinte centavos ), conforme proposta de compra anexada ao processo SEI nº 00111 - 0 0 0 1 7 6 4 8 / 2 0 1 7 -\\n60 ; item 2211 , SHVP TRECHO 03 QD 08 CONJ 09 LT 01 , ao interessado(a) GERALDA DA\\nCUNHA DE MORAES PINHEIRO , pelo valor de R$ 149.239,16 ( cento e quarenta e nove mil,\\nduzentos e trinta e nove reais e dezesseis centavos ), conforme proposta de compra anexada ao\\nprocesso SEI nº 00111-00017296/2017-42 ; item 2399 , SHVP TRECHO 03 QD 08 CONJ 27 LT 10\\n, ao interessado(a) JOSÉ LUÍS PAIXÃO COSTA , pelo valor de R$ 72.025,72 ( setenta e dois mil\\ne vinte e cinco reais e setenta e dois centavos ), conforme proposta de compra anexada ao processo\\nSEI nº 00111-00017934/2017-25 ; item 2839 , SHVP TRECHO 03 QD 10 CONJ 16 LT 04 , ao\\ninteressado(a) BERNADETE DE LOURDES MEDEIROS BARBOSA , pelo valor de R$ 65.610,36 (\\nsessenta e cinco mil, seiscentos e dez reais e trinta e seis centavos ), conforme proposta de compra\\nanexada ao processo SEI nº 00111-00017842/2017-45. Para informações e esclarecimentos quanto a\\nprazos e demais obrigações obedeça-se aos termos estabelecidos no Edital de Convocação para Venda\\nDireta nº 001/2017-Vicente Pires-Trecho 3.\\nBrasília/DF, 28 de dezembro de 2018\\nRENATO CORREIA LEAL\\nPresidente COVED',\n",
       "   'AVISO DE HOMOLOGAÇÃO E CONVOCAÇÃO DE RESULTADO\\nDO EDITAL DE CONVOCAÇÃO PARA VENDA DIRETA Nº 02/2018\\nVICENTE PIRES-TRECHO 3.\\nO Presidente da COVED, acolhendo o parecer conclusivo inserido no respectivo processo, declara\\nhabilitado para venda à VISTA o item a seguir: item 306, Q 10 CJ 01 LT 28, ao interessado(a)\\nMARIA IZABEL PASSARELLA TEIXEIRA , pelo valor de R$ 233.154,36 ( duzentos e trinta e três\\nmil, cento e cinquenta e quatro reais e trinta e seis centavos ), conforme proposta de compra anexada\\nao processo SEI nº 00111-00006701/2018-88. O presidente da COVED, acolhendo os pareceres\\nconclusivos inseridos nos respectivos processos, declara habilitados para venda a PRAZO os itens a\\nseguir: item 105 , Q 05 CJ 03 LT 09 , ao interessado(a) TERESA CRISTINA CAMPOS MA RT I N S\\n, pelo valor de R$ 97.228,92 ( noventa e sete mil, duzentos e vinte e oito reais e noventa e dois\\ncentavos ), conforme proposta de compra anexada ao processo SEI nº 00111-00008183/2018-37 ; item\\n264 , Q 08 CJ 21 LT 09 , ao interessado(a) ANA PAULA CORREA GOMES , pelo valor de R$\\n198.099,00 ( cento e noventa e oito mil e noventa e nove reais ), conforme proposta de compra\\nanexada ao processo SEI nº 00111-00008155/2018-10. Para informações e esclarecimentos quanto a\\nprazos e demais obrigações obedeça-se aos termos estabelecidos no Edital de Convocação para Venda\\nDireta nº 002/2018.\\nBrasília/DF, 28 de dezembro de 2018\\nRENATO CORREIA LEAL\\nPresidente COVED'])]"
      ]
     },
     "execution_count": 426,
     "metadata": {},
     "output_type": "execute_result"
    }
   ],
   "source": [
    "h"
   ]
  },
  {
   "cell_type": "code",
   "execution_count": null,
   "metadata": {},
   "outputs": [],
   "source": []
  }
 ],
 "metadata": {
  "kernelspec": {
   "display_name": "Python 3",
   "language": "python",
   "name": "python3"
  },
  "language_info": {
   "codemirror_mode": {
    "name": "ipython",
    "version": 3
   },
   "file_extension": ".py",
   "mimetype": "text/x-python",
   "name": "python",
   "nbconvert_exporter": "python",
   "pygments_lexer": "ipython3",
   "version": "3.8.1"
  }
 },
 "nbformat": 4,
 "nbformat_minor": 4
}
