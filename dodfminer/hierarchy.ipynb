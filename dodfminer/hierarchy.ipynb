{
 "cells": [
  {
   "cell_type": "code",
   "execution_count": 1,
   "metadata": {},
   "outputs": [],
   "source": [
    "%load_ext autoreload\n",
    "%autoreload 2"
   ]
  },
  {
   "cell_type": "code",
   "execution_count": 2,
   "metadata": {},
   "outputs": [],
   "source": [
    "import re\n",
    "from collections import namedtuple\n",
    "from typing import List, Dict, Union, NamedTuple\n",
    "\n",
    "import prextract.title_filter as title_filter\n",
    "import fitz"
   ]
  },
  {
   "cell_type": "code",
   "execution_count": 3,
   "metadata": {},
   "outputs": [],
   "source": [
    "PATH='2.pdf'\n",
    "doc = fitz.open(PATH)\n",
    "pnum = 1\n",
    "\n",
    "p = doc[pnum]\n",
    "p_width = p.MediaBox[2]\n",
    "\n",
    "\n",
    "class TextBlockTrans(NamedTuple):\n",
    "    x0: float\n",
    "    y0: float\n",
    "    x1: float\n",
    "    y1: float\n",
    "    text: str\n",
    "    block_no: int\n",
    "    page: int\n",
    "    pwidth: float = None\n",
    "    def __repr__(self):\n",
    "        ret = []\n",
    "        ret.append('TextBlockTrans')\n",
    "        ret.append('\\tbbox: ({}, {}, {}, {})'.format(*self[:4]))\n",
    "        ret.append('\\ttext: {}'.format(self.text))\n",
    "        ret.append('\\tblock_no: {}'.format(self[5]))\n",
    "        ret.append('\\tpage, pwidth: {}'.format(self[-2:]))\n",
    "        return '\\n'.join(ret)\n",
    "    \n",
    "\n",
    "TextBlockPaged = namedtuple('TextBlockTrans',\n",
    "    'x0 y0 x1 y1 text block_no page',\n",
    "    defaults=7*(None,)\n",
    ")"
   ]
  },
  {
   "cell_type": "code",
   "execution_count": 4,
   "metadata": {},
   "outputs": [
    {
     "data": {
      "text/plain": [
       "[(56.69187545776367,\n",
       "  441.5146789550781,\n",
       "  404.0799865722656,\n",
       "  582.56103515625,\n",
       "  'ORDEM DE SERVIÇO Nº 354, DE 28 DE NOVEMBRO DE 2018\\nO SUBSECRETÁRIO DE ADMINISTRAÇÃO GERAL, DA SECRETARIA DE ESTADO DE\\nPLANEJAMENTO, ORÇAMENTO E GESTÃO DO DISTRITO FEDERAL, Substituto, no uso de\\nsuas atribuições regimentais e com fundamento no art. 67 da Lei nº 8.666, de 21 de junho de 1993,\\ne no art. 41 do Decreto nº 32.598, de 15 de dezembro de 2010, e ainda, acatando as solicitações da\\nárea competente, resolve:\\nArt. 1º Retificar o item 7 do art. 1º da ORDEM DE SERVIÇO Nº 238, DE 11 DE SETEMBRO DE\\n2018, publicada no DODF nº 173, de 11/09/2018. ONDE SE LÊ: RA-XII/Anexo Sede (JM e\\nConselho), LEIA-SE: RA-XII Samambaia - Anexo da Administração (Junta Militar, Conselhos, Núcleo\\nde Feira, Transporte e Gerências).\\nArt. 2º Esta Ordem de Serviço entra em vigor na data de sua publicação.\\nArt. 3º Revogam-se as disposições em contrário.\\nNAUM ROSIVALDO DOS SANTOS',\n",
       "  4,\n",
       "  0),\n",
       " (56.69187545776367,\n",
       "  592.9675903320312,\n",
       "  404.1083984375,\n",
       "  718.0699462890625,\n",
       "  'PORTARIA Nº 529, DE 27 DE NOVEMBRO DE 2018\\nO SECRETÁRIO DE ESTADO DE PLANEJAMENTO, ORÇAMENTO E GESTÃO DO DISTRITO\\nFEDERAL, no uso das atribuições previstas no art. 323, XV, do Regimento Interno aprovado pelo\\nDecreto nº 39.386, de 17 de outubro de 2018, e diante do preceituado no art. 1º e seguintes da Lei\\nnº 318, de 23 de setembro de 1992, no art. 6º, §1º, I, da Lei nº 2.585, de 5 de setembro de 2000,\\ne ante as considerações apresentadas no Processo SEI nº 00410-00024460/2017-67, resolve:\\nCONCEDER à servidora CECILIA CARDINALE LIMA DE MELO, matrícula nº 191.953-9, Médica\\n- Medicina do Trabalho, da Gerência de Promoção à Saúde do Servidor, da Subsecretária de\\nSegurança e Saúde no Trabalho - SUBSAÚDE, a GRATIFICAÇÃO DE MOVIMENTAÇÃO - GM O V,\\nno percentual de 10% (dez por cento), incidente sobre o vencimento padrão em que o servidor estiver\\nposicionado, a contar de 04 de novembro de 2017.\\nRENATO JORGE BROWN RIBEIRO',\n",
       "  5,\n",
       "  0)]"
      ]
     },
     "execution_count": 4,
     "metadata": {},
     "output_type": "execute_result"
    }
   ],
   "source": [
    "text_blocks = p.getTextBlocks()\n",
    "extract = p.getTextPage().extractDICT()['blocks']\n",
    "text_blocks[4:6]"
   ]
  },
  {
   "cell_type": "code",
   "execution_count": 5,
   "metadata": {},
   "outputs": [],
   "source": [
    "_TRASH_EXPRESSIONS = [\n",
    "    \"SUMÁRIO\",\n",
    "    \"DIÁRIO OFICIAL\",\n",
    "    \"SEÇÃO (I|II|III)\",\n",
    "    \"SEÇÃO\",\n",
    "]\n",
    "\n",
    "_TRASH_COMPILED = re.compile('|'.join(_TRASH_EXPRESSIONS))\n",
    "\n",
    "\n",
    "def is_bold(flags):\n",
    "    return flags & 2 ** 4\n",
    "\n",
    "\n",
    "def textBlock_topage(lis, page_width, pnum):\n",
    "    \"\"\"Given a text_block list (of tuples), return one with \n",
    "    two more values at the end, indicating `page number` and\n",
    "    `page width`.\n",
    "    \"\"\"\n",
    "    return [TextBlockTrans(*i[:-1], pnum, page_width) for i in lis]\n",
    "\n",
    "def text_blocks_transform(text_blocks: List,\n",
    "                          keep_page_width=True):\n",
    "    lis = []\n",
    "    for idx, tb in enumerate(text_blocks):\n",
    "        p_num = tb[-2]\n",
    "        p_num = tb.page\n",
    "        \n",
    "        \n",
    "        p_width = tb[-1]\n",
    "        p_width = tb.pwidth\n",
    "        \n",
    "        \n",
    "        p_num *= 2\n",
    "        x0, y0, x1, y1 = tb[:4]\n",
    "        x0 = tb.x0\n",
    "        \n",
    "        p_num += int(x0 >( p_width / 2))\n",
    "        if keep_page_width:            \n",
    "            lis.append( TextBlockTrans( *(tb[:-2]), p_num, p_width ) )\n",
    "        else:\n",
    "            lis.append( TextBlockPaged( *(tb[:-2]), p_num, ) )\n",
    "    return lis\n",
    "\n",
    "\n",
    "def is_title_subtitle(span):\n",
    "    return ((title_filter.BoldUpperCase.dict_text(span))\n",
    "            and is_bold(span['flags'])\n",
    "            and not re.search(_TRASH_COMPILED, span['text'])\n",
    "            and 'calibri' not in span['font'].lower()\n",
    "        )\n",
    "\n",
    "def are_title_subtitle(span_list):\n",
    "    return [is_title_subtitle(span) for span in span_list]"
   ]
  },
  {
   "cell_type": "code",
   "execution_count": 6,
   "metadata": {},
   "outputs": [],
   "source": [
    "tb_paged = textBlock_topage(text_blocks, p_width, pnum)\n",
    "# tb_paged[4:6];"
   ]
  },
  {
   "cell_type": "code",
   "execution_count": 7,
   "metadata": {},
   "outputs": [
    {
     "name": "stdout",
     "output_type": "stream",
     "text": [
      "TextBlockTrans\n",
      "\tbbox: (56.666988372802734, 55.11705017089844, 765.406005859375, 70.56302642822266)\n",
      "\ttext: PÁGINA 2\n",
      "Nº 228, segunda-feira, 3 de dezembro de 2018\n",
      "D i ário Oficial do Distrito Federal\n",
      "\tblock_no: 0\n",
      "\tpage, pwidth: (1, 814.9600219726562)\n"
     ]
    }
   ],
   "source": [
    "print(tb_paged[0])\n",
    "tb_trans = text_blocks_transform(tb_paged, keep_page_width=False)\n",
    "# tb_trans[5:7]\n",
    "# [i.text for i in drop_header_footer(sort_transformed(\n",
    "#     tb_trans\n",
    "# ))]"
   ]
  },
  {
   "cell_type": "markdown",
   "metadata": {},
   "source": [
    "## VERIFICAR SE UM BLOCO É CANDIDATO A TÍTULO"
   ]
  },
  {
   "cell_type": "code",
   "execution_count": 8,
   "metadata": {},
   "outputs": [],
   "source": [
    "import re\n",
    "UPPER_REG = re.compile(r'[A-Z]')\n",
    "def is_upper(text: str):\n",
    "    return text.upper() == text"
   ]
  },
  {
   "cell_type": "code",
   "execution_count": 9,
   "metadata": {},
   "outputs": [],
   "source": [
    "def get_block_spans(block):\n",
    "    span_lis = [] \n",
    "    for line in block['lines']: \n",
    "        for span in line['spans']: \n",
    "            span_lis.append(span) \n",
    "    return span_lis\n",
    "\n",
    "titles_idx = [idx for (idx, bl) in enumerate(tb_trans)\n",
    "          if is_upper(bl.text)]\n"
   ]
  },
  {
   "cell_type": "code",
   "execution_count": 10,
   "metadata": {},
   "outputs": [],
   "source": [
    "block_spans = {}\n",
    "for i in titles_idx:\n",
    "    block_spans[i] = get_block_spans(extract[i])"
   ]
  },
  {
   "cell_type": "code",
   "execution_count": 11,
   "metadata": {},
   "outputs": [
    {
     "data": {
      "text/plain": [
       "dict_keys([2, 3, 8, 9, 10, 11, 12, 15])"
      ]
     },
     "execution_count": 11,
     "metadata": {},
     "output_type": "execute_result"
    }
   ],
   "source": [
    "block_spans.keys()"
   ]
  },
  {
   "cell_type": "code",
   "execution_count": 12,
   "metadata": {},
   "outputs": [
    {
     "name": "stdout",
     "output_type": "stream",
     "text": [
      "SECRETARIA DE ESTADO DE PLANEJAMENTO,\n",
      "ORÇAMENTO E GESTÃO\n",
      "\t----- 2 -----\n",
      "\n",
      "SUBSECRETARIA DE ADMINISTRAÇÃO GERAL\n",
      "\t----- 3 -----\n",
      "\n",
      "SECRETARIA DE ESTADO DA CASA CIVIL,\n",
      "RELAÇÕES INSTITUCIONAIS E SOCIAIS\n",
      "\t----- 15 -----\n",
      "\n"
     ]
    }
   ],
   "source": [
    "for k, span_list in block_spans.items():\n",
    "    if all(are_title_subtitle(span_list)):\n",
    "        print('\\n'.join((sp['text'] for sp in span_list)))\n",
    "        print('\\t----- {} -----\\n'.format(k))"
   ]
  },
  {
   "cell_type": "code",
   "execution_count": 13,
   "metadata": {},
   "outputs": [
    {
     "name": "stdout",
     "output_type": "stream",
     "text": [
      "TextBlockTrans(x0=56.666988372802734, y0=55.11705017089844, x1=765.406005859375, y1=70.56302642822266, text='PÁGINA 2\\nNº 228, segunda-feira, 3 de dezembro de 2018\\nD i ário Oficial do Distrito Federal', block_no=0, page=2)\n"
     ]
    }
   ],
   "source": [
    "def reading_sort_tuple(lis):\n",
    "    return sorted(lis, key=lambda x: (x.page, int(x.y0), x.x0))\n",
    "\n",
    "\n",
    "# def sort_transformed(text_blocks_transformed: \n",
    "#     List[Union[TextBlockTrans, TextBlockPaged]]):\n",
    "#     return sorted(text_blocks_transformed, key=trans_key)\n",
    "\n",
    "\n",
    "def drop_dup_tbt(lis: List[TextBlockTrans]):\n",
    "    \"\"\". This fun\n",
    "    \n",
    "    Sometimes, a span text apears multiple times, as if there exists\n",
    "    multiple spans starting at the same point. Tihs function drops\n",
    "    duplicate which matches this case.\n",
    "    \"\"\"\n",
    "    dic = {}\n",
    "    for tup in lis:\n",
    "        dic[tuple([int(i) for i in tup[:2]])] = tup\n",
    "    return list(dic.values())\n",
    "ret = reading_sort_tuple(drop_dup_tbt(tb_trans))\n",
    "print(ret[0])\n",
    "\n",
    "\n",
    "def drop_header_footer(lis: List[tuple]):\n",
    "    y0l = [ x.y0 for x in lis ]\n",
    "    mi, ma = min(y0l), max(y0l)\n",
    "    idx_mi, idx_ma = y0l.index(mi), y0l.index(ma)\n",
    "    left, right = min(idx_mi, idx_ma), max(idx_mi, idx_ma)\n",
    "    del lis[left]\n",
    "    del lis[right-1]\n",
    "    return lis\n",
    "\n",
    "\n",
    "\n",
    "def mount_hierarchy(page: fitz.Page, pnum):\n",
    "#     TODO : fazer para o documento inteiro\n",
    "    p_width = page.MediaBox[2]\n",
    "    \n",
    "    text_blocks = page.getTextBlocks()\n",
    "    extract = page.getTextPage().extractDICT()['blocks']\n",
    "\n",
    "    tb_paged = textBlock_topage(text_blocks, p_width, pnum)    \n",
    "    tb_trans = text_blocks_transform(tb_paged, keep_page_width=False)\n",
    "    \n",
    "    reading_sorted = reading_sort_tuple(drop_dup_tbt(tb_trans))\n",
    "    \n",
    "    cleaned_and_sorted = drop_header_footer(\n",
    "        reading_sort_tuple(\n",
    "        drop_dup_tbt(\n",
    "            tb_trans\n",
    "        )))\n",
    "\n",
    "    hier = [('preambulo', [])]\n",
    "    \n",
    "    last_title = 'preambulo'\n",
    "\n",
    "    for text_block in cleaned_and_sorted:\n",
    "        spans = get_block_spans(extract[text_block.block_no])\n",
    "        if all(are_title_subtitle(spans)):\n",
    "            cpy = [i.copy() for i in spans]\n",
    "            cpy = [(sp['text'], sp['bbox']) for sp in cpy]\n",
    "            last_title = sorted(set(cpy),\n",
    "                       key= lambda x:(x[1][1], x[1][0]))\n",
    "\n",
    "            last_title = '\\n'.join([i[0] for i in last_title])\n",
    "            hier.append((last_title, []))\n",
    "        else:\n",
    "            hier[-1][1].append(text_block.text)\n",
    "    return hier\n",
    "            \n",
    "            "
   ]
  },
  {
   "cell_type": "code",
   "execution_count": 14,
   "metadata": {},
   "outputs": [],
   "source": [
    "h=mount_hierarchy(p, pnum)"
   ]
  },
  {
   "cell_type": "code",
   "execution_count": 15,
   "metadata": {},
   "outputs": [
    {
     "data": {
      "text/plain": [
       "[('preambulo', []),\n",
       " ('SECRETARIA DE ESTADO DA CASA CIVIL,\\nRELAÇÕES INSTITUCIONAIS E SOCIAIS',\n",
       "  ['PORTARIA N° 84, DE 28 DE NOVEMBRO DE 2018\\nO SECRETÁRIO DE ESTADO DA CASA CIVIL, RELAÇÕES INSTITUCIONAIS E SOCIAIS DO\\nDISTRITO FEDERAL, com fulcro artigo 105, da Lei Orgânica do Distrito Federal, e no artigo 255 da Lei\\nComplementar nº 840, de 23 de dezembro de 2011, resolve:\\nArt. 1º. Determinar o arquivamento do Processo Administrativo Disciplinar, instaurada pela Portaria nº\\n215, de 28 de julho de 2017, publicada no DODF nº 147, de 31 de julho de 2017, constante nos autos do\\nProcesso Administrativo nº 390.000.509/2007, acolhendo os fundamentos da Nota Técnica n° 416/2018 -\\nAJL.\\nArt. 2º Esta Portaria entra em vigor na data de sua publicação.\\nSÉRGIO SAMPAIO CONTREIRAS DE ALMEIDA',\n",
       "   'PORTARIA N° 85, DE 28 DE NOVEMBRO DE 2018\\nO SECRETÁRIO DE ESTADO DA CASA CIVIL, RELAÇÕES INSTITUCIONAIS E SOCIAIS DO\\nDISTRITO FEDERAL, com fulcro artigo 105, da Lei Orgânica do Distrito Federal, e no artigo 215, I da\\nLei Complementar nº 840, de 23 de dezembro de 2011, resolve:\\nArt. 1º. DETERMINAR O ARQUIVAMENTO da Sindicância, instaurada pela Portaria nº 39, de 09 de\\njunho de 2017, publicada no DODF nº 111, de 12 de junho de 2017, constante nos autos do Processo\\nAdministrativo nº 002.000.462/2016, acolhendo a instrução produzida pela Comissão, com os fundamentos\\nda Nota Técnica nº 0402/2018-AJL/CACI.\\nArt. 2º Esta Portaria entra em vigor na data de sua publicação.\\nSÉRGIO SAMPAIO CONTREIRAS DE ALMEIDA']),\n",
       " ('SECRETARIA DE ESTADO DE PLANEJAMENTO,\\nORÇAMENTO E GESTÃO', []),\n",
       " ('SUBSECRETARIA DE ADMINISTRAÇÃO GERAL',\n",
       "  ['ORDEM DE SERVIÇO Nº 354, DE 28 DE NOVEMBRO DE 2018\\nO SUBSECRETÁRIO DE ADMINISTRAÇÃO GERAL, DA SECRETARIA DE ESTADO DE\\nPLANEJAMENTO, ORÇAMENTO E GESTÃO DO DISTRITO FEDERAL, Substituto, no uso de\\nsuas atribuições regimentais e com fundamento no art. 67 da Lei nº 8.666, de 21 de junho de 1993,\\ne no art. 41 do Decreto nº 32.598, de 15 de dezembro de 2010, e ainda, acatando as solicitações da\\nárea competente, resolve:\\nArt. 1º Retificar o item 7 do art. 1º da ORDEM DE SERVIÇO Nº 238, DE 11 DE SETEMBRO DE\\n2018, publicada no DODF nº 173, de 11/09/2018. ONDE SE LÊ: RA-XII/Anexo Sede (JM e\\nConselho), LEIA-SE: RA-XII Samambaia - Anexo da Administração (Junta Militar, Conselhos, Núcleo\\nde Feira, Transporte e Gerências).\\nArt. 2º Esta Ordem de Serviço entra em vigor na data de sua publicação.\\nArt. 3º Revogam-se as disposições em contrário.\\nNAUM ROSIVALDO DOS SANTOS',\n",
       "   'PORTARIA Nº 529, DE 27 DE NOVEMBRO DE 2018\\nO SECRETÁRIO DE ESTADO DE PLANEJAMENTO, ORÇAMENTO E GESTÃO DO DISTRITO\\nFEDERAL, no uso das atribuições previstas no art. 323, XV, do Regimento Interno aprovado pelo\\nDecreto nº 39.386, de 17 de outubro de 2018, e diante do preceituado no art. 1º e seguintes da Lei\\nnº 318, de 23 de setembro de 1992, no art. 6º, §1º, I, da Lei nº 2.585, de 5 de setembro de 2000,\\ne ante as considerações apresentadas no Processo SEI nº 00410-00024460/2017-67, resolve:\\nCONCEDER à servidora CECILIA CARDINALE LIMA DE MELO, matrícula nº 191.953-9, Médica\\n- Medicina do Trabalho, da Gerência de Promoção à Saúde do Servidor, da Subsecretária de\\nSegurança e Saúde no Trabalho - SUBSAÚDE, a GRATIFICAÇÃO DE MOVIMENTAÇÃO - GM O V,\\nno percentual de 10% (dez por cento), incidente sobre o vencimento padrão em que o servidor estiver\\nposicionado, a contar de 04 de novembro de 2017.\\nRENATO JORGE BROWN RIBEIRO',\n",
       "   'PORTARIA Nº 530, DE 27 DE NOVEMBRO DE 2018\\nO SECRETÁRIO DE ESTADO DE PLANEJAMENTO, ORÇAMENTO E GESTÃO DO DISTRITO\\nFEDERAL, no uso das atribuições previstas no art. 105, parágrafo único, III, da Lei Orgânica do\\nDistrito Federal, no art. 323, II e III, do Regimento Interno aprovado pelo Decreto nº 39.386, de 17\\nde outubro de 2018, bem como no Decreto nº 39.133 de 15 de junho de 2018, e considerando que\\no contexto do trabalho afeta o comportamento e as atitudes dos servidores, sua qualidade de vida e\\nseu desempenho, resolve:\\nArt. 1º Instituir no âmbito da Secretaria de Estado de Planejamento, Orçamento e Gestão do Distrito\\nFederal (SEPLAG) a prática contínua de realização de Diagnóstico Organizacional.\\nArt. 2º O diagnóstico organizacional tem como objetivo geral alcançar uma visão integrada e\\narticulada da Secretaria e dos servidores, resultando em maior agilidade na identificação das\\noportunidades de melhorias, melhor direcionamento das ações e maior integração entre as áreas e os\\nservidores.\\nParágrafo único. Os objetivos específicos do diagnóstico organizacional são:\\nI - identificar as percepções ligadas a aspectos particulares do\\ntrabalho, partilhadas pelos\\nservidores;\\nII - detectar a percepção e interpretação comuns das dimensões das atividades, do ambiente e das\\npolíticas e práticas que caracterizam a Secretaria;\\nIII - conhecer a dinâmica organizacional da Secretaria;\\nIV - identificar as oportunidades de melhoria e os pontos fortes da Secretaria;\\nV - destacar as oportunidades de melhoria nas cinco dimensões de saúde: física, social, profissional,\\nintelectual e espiritual;\\nVI - propor, conforme avaliação dos dados, possíveis mudanças que maximizem os resultados e a\\nsustentabilidade da Secretaria;\\nVII - maximizar processos de promoção de saúde, prevenção de doenças e redução de agravo;\\nVIII - tornar a SEPLAG um lugar ainda melhor para se trabalhar;\\nArt. 3º O diagnóstico organizacional deve ser realizado, bianualmente, a partir de pesquisa de clima\\norganizacional e pesquisa de saúde e de outras medidas do comportamento organizacional julgadas\\npertinentes.\\nArt. 4º Para fins desta Portaria utilizam-se os seguintes conceitos:\\nI - clima organizacional é um conjunto de construtos mensuráveis do ambiente de trabalho percebido\\npelos servidores e que influencia a motivação, a produtividade e o comportamento destes;\\nII - pesquisa de clima organizacional é uma ferramenta de diagnóstico que permite conhecer a\\ndinâmica da vida organizacional, buscando identificar como servidores expostos a uma série de\\nestímulos oriundos da organização e do ambiente de trabalho têm percepções similares e atribuem\\nsignificados semelhantes aos aspectos importantes da vida organizacional;\\nIII - saúde, de acordo com a Organização Mundial de Saúde (OMS) é entendida como não apenas\\na ausência de doença, mas como uma situação de perfeito bem-estar físico, social, profissional,\\nintelectual e espiritual;\\nIV - pesquisa de saúde é uma ferramenta utilizada para mensurar de forma holística aspectos\\nrelevantes à saúde dos servidores.\\nArt. 5º Compete à Diretoria Estratégica de Gestão de Pessoas a supervisão da prática contínua de\\ndiagnóstico organizacional e à Gerência de Programas Estratégicos de Gestão de Pessoas, a\\nelaboração, a realização, e a implementação das ações oriundas das oportunidades de melhoria\\nencontradas.\\nArt. 6º Esta Portaria entra em vigor na data de sua publicação.\\nRENATO JORGE BROWN RIBEIRO',\n",
       "   'PORTARIA N° 532, DE 28 DE NOVEMBRO DE 2018\\nO SECRETÁRIO DE ESTADO DE PLANEJAMENTO, ORÇAMENTO E GESTÃO DO DISTRITO\\nFEDERAL, no uso de suas atribuições regimentais e em consonância com os termos do Art. 3º, inciso IV,\\nda Lei 5.647 de março de 2016, resolve:\\nArt. 1º Publicar, na forma constante do anexo a esta Portaria, conforme novo modelo aprovado na Decisão\\nnº 3.306/2018 - TCDF, a consolidação das informações relativas à força de trabalho do Governo do Distrito\\nFederal relativas ao mês de novembro de 2018.\\nArt. 2º Esta Portaria entra em vigor na data de sua publicação.\\nRENATO JORGE BROWN RIBEIRO',\n",
       "   '1_DF_30_001',\n",
       "   '1_DF_30_002',\n",
       "   '1_DF_30_003',\n",
       "   '1_DF_30_004',\n",
       "   '1_DF_30_005'])]"
      ]
     },
     "execution_count": 15,
     "metadata": {},
     "output_type": "execute_result"
    }
   ],
   "source": [
    "h"
   ]
  },
  {
   "cell_type": "code",
   "execution_count": null,
   "metadata": {},
   "outputs": [],
   "source": []
  }
 ],
 "metadata": {
  "kernelspec": {
   "display_name": "Python 3",
   "language": "python",
   "name": "python3"
  },
  "language_info": {
   "codemirror_mode": {
    "name": "ipython",
    "version": 3
   },
   "file_extension": ".py",
   "mimetype": "text/x-python",
   "name": "python",
   "nbconvert_exporter": "python",
   "pygments_lexer": "ipython3",
   "version": "3.8.1"
  }
 },
 "nbformat": 4,
 "nbformat_minor": 4
}
